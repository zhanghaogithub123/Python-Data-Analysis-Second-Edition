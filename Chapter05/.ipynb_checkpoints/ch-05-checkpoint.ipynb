{
 "cells": [
  {
   "cell_type": "markdown",
   "metadata": {},
   "source": [
    "# Chapter 5 : Retrieving, Processing, and Storing Data"
   ]
  },
  {
   "cell_type": "markdown",
   "metadata": {},
   "source": [
    "# Writing CSV files"
   ]
  },
  {
   "cell_type": "code",
   "execution_count": 1,
   "metadata": {},
   "outputs": [
    {
     "name": "stdout",
     "output_type": "stream",
     "text": [
      "[[ 0.49671415 -0.1382643   0.64768854  1.52302986]\n",
      " [-0.23415337 -0.23413696  1.57921282  0.76743473]\n",
      " [-0.46947439  0.54256004         nan -0.46572975]]\n",
      "          0         1         2         3\n",
      "0  0.496714 -0.138264  0.647689  1.523030\n",
      "1 -0.234153 -0.234137  1.579213  0.767435\n",
      "2 -0.469474  0.542560       NaN -0.465730\n"
     ]
    }
   ],
   "source": [
    "import numpy as np\n",
    "import pandas as pd\n",
    "\n",
    "np.random.seed(42)\n",
    "\n",
    "a = np.random.randn(3, 4)\n",
    "a[2][2] = np.nan\n",
    "print(a)\n",
    "np.savetxt('np.csv', a, fmt='%.2f', delimiter=',', header=\" #1, #2,  #3,  #4\")\n",
    "df = pd.DataFrame(a)\n",
    "print(df)\n",
    "df.to_csv('pd.csv', float_format='%.2f', na_rep=\"NAN!\")"
   ]
  },
  {
   "cell_type": "markdown",
   "metadata": {},
   "source": [
    "# Comparing binary .npy format and pickle format"
   ]
  },
  {
   "cell_type": "code",
   "execution_count": 2,
   "metadata": {},
   "outputs": [
    {
     "name": "stdout",
     "output_type": "stream",
     "text": [
      "Size CSV file 36693\n",
      "Shape (365, 4)\n",
      "Size .npy file 11808\n",
      "Size pickled dataframe 12254\n",
      "DF from pickle\n",
      "             0         1         2         3\n",
      "0    0.496714 -0.138264  0.647689  1.523030\n",
      "1   -0.234153 -0.234137  1.579213  0.767435\n",
      "2   -0.469474  0.542560 -0.463418 -0.465730\n",
      "3    0.241962 -1.913280 -1.724918 -0.562288\n",
      "4   -1.012831  0.314247 -0.908024 -1.412304\n",
      "5    1.465649 -0.225776  0.067528 -1.424748\n",
      "6   -0.544383  0.110923 -1.150994  0.375698\n",
      "7   -0.600639 -0.291694 -0.601707  1.852278\n",
      "8   -0.013497 -1.057711  0.822545 -1.220844\n",
      "9    0.208864 -1.959670 -1.328186  0.196861\n",
      "10   0.738467  0.171368 -0.115648 -0.301104\n",
      "11  -1.478522 -0.719844 -0.460639  1.057122\n",
      "12   0.343618 -1.763040  0.324084 -0.385082\n",
      "13  -0.676922  0.611676  1.031000  0.931280\n",
      "14  -0.839218 -0.309212  0.331263  0.975545\n",
      "15  -0.479174 -0.185659 -1.106335 -1.196207\n",
      "16   0.812526  1.356240 -0.072010  1.003533\n",
      "17   0.361636 -0.645120  0.361396  1.538037\n",
      "18  -0.035826  1.564644 -2.619745  0.821903\n",
      "19   0.087047 -0.299007  0.091761 -1.987569\n",
      "20  -0.219672  0.357113  1.477894 -0.518270\n",
      "21  -0.808494 -0.501757  0.915402  0.328751\n",
      "22  -0.529760  0.513267  0.097078  0.968645\n",
      "23  -0.702053 -0.327662 -0.392108 -1.463515\n",
      "24   0.296120  0.261055  0.005113 -0.234587\n",
      "25  -1.415371 -0.420645 -0.342715 -0.802277\n",
      "26  -0.161286  0.404051  1.886186  0.174578\n",
      "27   0.257550 -0.074446 -1.918771 -0.026514\n",
      "28   0.060230  2.463242 -0.192361  0.301547\n",
      "29  -0.034712 -1.168678  1.142823  0.751933\n",
      "..        ...       ...       ...       ...\n",
      "335  0.160574  0.003046  0.436938  1.190646\n",
      "336  0.949554 -1.484898 -2.553921  0.934320\n",
      "337 -1.366879 -0.224765 -1.170113 -1.801980\n",
      "338  0.541463  0.759155 -0.576510 -2.591042\n",
      "339 -0.546244  0.391804 -1.478912  0.183360\n",
      "340 -0.015310  0.579291  0.119580 -0.973069\n",
      "341  1.196572 -0.158530 -0.027305 -0.933268\n",
      "342 -0.443282 -0.884803 -0.172946  1.711708\n",
      "343 -1.371901 -1.613561  1.471170 -0.209324\n",
      "344 -0.669073  1.039905 -0.605616  1.826010\n",
      "345  0.677926 -0.487911  2.157308 -0.605715\n",
      "346  0.742095  0.299293  1.301741  1.561511\n",
      "347  0.032004 -0.753418  0.459972 -0.677715\n",
      "348  2.013387  0.136535 -0.365322  0.184680\n",
      "349 -1.347126 -0.971614  1.200414 -0.656894\n",
      "350 -1.046911  0.536653  1.185704  0.718953\n",
      "351  0.996048 -0.756795 -1.421811  1.501334\n",
      "352 -0.322680 -0.250833  1.328194  0.556230\n",
      "353  0.455888  2.165002 -0.643518  0.927840\n",
      "354  0.057013  0.268592  1.528468  0.507836\n",
      "355  0.538296  1.072507 -0.364953 -0.839210\n",
      "356 -1.044809 -1.966357  2.056207 -1.103208\n",
      "357 -0.221254 -0.276813  0.307407  0.815737\n",
      "358  0.860473 -0.583077 -0.167122  0.282580\n",
      "359 -0.248691  1.607346  0.490975  0.734878\n",
      "360  0.662881  1.173474  0.181022 -1.296832\n",
      "361  0.399688 -0.651357 -0.528617  0.586364\n",
      "362  1.238283  0.021272  0.308833  1.702215\n",
      "363  0.240753  2.601683  0.565510 -1.760763\n",
      "364  0.753342  0.381158  1.289753  0.673181\n",
      "\n",
      "[365 rows x 4 columns]\n"
     ]
    }
   ],
   "source": [
    "import numpy as np\n",
    "import pandas as pd\n",
    "from tempfile import NamedTemporaryFile\n",
    "from os.path import getsize\n",
    "\n",
    "np.random.seed(42)\n",
    "a = np.random.randn(365, 4)\n",
    "\n",
    "tmpf = NamedTemporaryFile()\n",
    "np.savetxt(tmpf, a, delimiter=',')\n",
    "print(\"Size CSV file\", getsize(tmpf.name))\n",
    "\n",
    "tmpf = NamedTemporaryFile()\n",
    "np.save(tmpf, a)\n",
    "tmpf.seek(0)\n",
    "loaded = np.load(tmpf)\n",
    "print(\"Shape\", loaded.shape)\n",
    "print(\"Size .npy file\", getsize(tmpf.name))\n",
    "\n",
    "df = pd.DataFrame(a)\n",
    "df.to_pickle(tmpf.name)\n",
    "print(\"Size pickled dataframe\", getsize(tmpf.name))\n",
    "print(\"DF from pickle\\n\", pd.read_pickle(tmpf.name))\n"
   ]
  },
  {
   "cell_type": "code",
   "execution_count": 3,
   "metadata": {},
   "outputs": [
    {
     "name": "stdout",
     "output_type": "stream",
     "text": [
      "13728\n",
      "<class 'numpy.ndarray'> (365, 4)\n"
     ]
    }
   ],
   "source": [
    "import numpy as np\n",
    "import tables\n",
    "from tempfile import NamedTemporaryFile\n",
    "from os.path import getsize\n",
    "\n",
    "np.random.seed(42)\n",
    "a = np.random.randn(365, 4)\n",
    "\n",
    "tmpf = NamedTemporaryFile()\n",
    "h5file = tables.open_file(tmpf.name, mode='w', title=\"NumPy Array\")\n",
    "root = h5file.root\n",
    "h5file.create_array(root, \"array\", a)\n",
    "h5file.close()\n",
    "\n",
    "h5file = tables.open_file(tmpf.name, \"r\")\n",
    "print(getsize(tmpf.name))\n",
    "\n",
    "for node in h5file.root:\n",
    "   b = node.read()\n",
    "   print(type(b), b.shape)\n",
    "\n",
    "h5file.close()"
   ]
  },
  {
   "cell_type": "markdown",
   "metadata": {},
   "source": [
    "# Reading and writing DataFrames to HDF5"
   ]
  },
  {
   "cell_type": "code",
   "execution_count": 5,
   "metadata": {},
   "outputs": [
    {
     "name": "stdout",
     "output_type": "stream",
     "text": [
      "<class 'pandas.io.pytables.HDFStore'>\n",
      "File path: /tmp/tmp39ozrpzo\n",
      "\n",
      "<class 'pandas.io.pytables.HDFStore'>\n",
      "File path: /tmp/tmp39ozrpzo\n",
      "\n",
      "Get (365, 4)\n",
      "Lookup (365, 4)\n",
      "Dotted (365, 4)\n",
      "After del\n",
      " <class 'pandas.io.pytables.HDFStore'>\n",
      "File path: /tmp/tmp39ozrpzo\n",
      "\n",
      "Before close True\n",
      "After close False\n",
      "            0         1         2         3\n",
      "364  0.753342  0.381158  1.289753  0.673181\n"
     ]
    }
   ],
   "source": [
    "import numpy as np\n",
    "import pandas as pd\n",
    "from tempfile import NamedTemporaryFile\n",
    "\n",
    "np.random.seed(42)\n",
    "a = np.random.randn(365, 4)\n",
    "\n",
    "tmpf = NamedTemporaryFile()\n",
    "store = pd.io.pytables.HDFStore(tmpf.name)\n",
    "print(store)\n",
    "\n",
    "df = pd.DataFrame(a)\n",
    "store['df'] = df\n",
    "print(store)\n",
    "\n",
    "print(\"Get\", store.get('df').shape)\n",
    "print(\"Lookup\", store['df'].shape)\n",
    "print( \"Dotted\", store.df.shape)\n",
    "\n",
    "del store['df']\n",
    "print(\"After del\\n\", store)\n",
    "\n",
    "print(\"Before close\", store.is_open)\n",
    "store.close()\n",
    "print(\"After close\", store.is_open)\n",
    "\n",
    "df.to_hdf('test.h5', 'data', format='table')\n",
    "print(pd.read_hdf('test.h5', 'data', where=['index>363']))"
   ]
  },
  {
   "cell_type": "markdown",
   "metadata": {},
   "source": [
    "# Reading and writing to Excel"
   ]
  },
  {
   "cell_type": "code",
   "execution_count": 6,
   "metadata": {},
   "outputs": [
    {
     "name": "stdout",
     "output_type": "stream",
     "text": [
      "/tmp/tmp6eb111c4.xlsx\n",
      "Means\n",
      " 0    0.037860\n",
      "1    0.024483\n",
      "2    0.059836\n",
      "3    0.058417\n",
      "dtype: float64\n"
     ]
    }
   ],
   "source": [
    "import numpy as np\n",
    "import pandas as pd\n",
    "from tempfile import NamedTemporaryFile\n",
    "\n",
    "np.random.seed(42)\n",
    "a = np.random.randn(365, 4)\n",
    "\n",
    "tmpf = NamedTemporaryFile(suffix='.xlsx')\n",
    "df = pd.DataFrame(a)\n",
    "print(tmpf.name)\n",
    "df.to_excel(tmpf.name, sheet_name='Random Data')\n",
    "print(\"Means\\n\", pd.read_excel(tmpf.name, 'Random Data').mean())"
   ]
  },
  {
   "cell_type": "markdown",
   "metadata": {},
   "source": [
    "# Using REST and JSON"
   ]
  },
  {
   "cell_type": "code",
   "execution_count": 7,
   "metadata": {},
   "outputs": [
    {
     "name": "stdout",
     "output_type": "stream",
     "text": [
      "Country Netherlands\n",
      "{\"country\": \"Brazil\", \"dma_code\": \"0\", \"timezone\": \"Europe/Amsterdam\", \"area_code\": \"0\", \"ip\": \"46.19.37.108\", \"asn\": \"AS196752\", \"continent_code\": \"EU\", \"isp\": \"Tilaa V.O.F.\", \"longitude\": 5.75, \"latitude\": 52.5, \"country_code\": \"NL\", \"country_code3\": \"NLD\"}\n"
     ]
    }
   ],
   "source": [
    "import json\n",
    "\n",
    "json_str = '{\"country\":\"Netherlands\",\"dma_code\":\"0\",\"timezone\":\"Europe\\/Amsterdam\",\"area_code\":\"0\",\"ip\":\"46.19.37.108\",\"asn\":\"AS196752\",\"continent_code\":\"EU\",\"isp\":\"Tilaa V.O.F.\",\"longitude\":5.75,\"latitude\":52.5,\"country_code\":\"NL\",\"country_code3\":\"NLD\"}'\n",
    "\n",
    "data = json.loads(json_str)\n",
    "print(\"Country\", data[\"country\"])\n",
    "data[\"country\"] = \"Brazil\"\n",
    "print(json.dumps(data))"
   ]
  },
  {
   "cell_type": "code",
   "execution_count": 8,
   "metadata": {},
   "outputs": [
    {
     "name": "stdout",
     "output_type": "stream",
     "text": [
      "Series\n",
      " area_code                        0\n",
      "asn                       AS196752\n",
      "continent_code                  EU\n",
      "country                Netherlands\n",
      "country_code                    NL\n",
      "country_code3                  NLD\n",
      "dma_code                         0\n",
      "ip                    46.19.37.108\n",
      "isp                   Tilaa V.O.F.\n",
      "latitude                      52.5\n",
      "longitude                     5.75\n",
      "timezone          Europe/Amsterdam\n",
      "dtype: object\n",
      "New Series\n",
      " {\"area_code\":\"0\",\"asn\":\"AS196752\",\"continent_code\":\"EU\",\"country\":\"Brazil\",\"country_code\":\"NL\",\"country_code3\":\"NLD\",\"dma_code\":\"0\",\"ip\":\"46.19.37.108\",\"isp\":\"Tilaa V.O.F.\",\"latitude\":52.5,\"longitude\":5.75,\"timezone\":\"Europe\\/Amsterdam\"}\n"
     ]
    }
   ],
   "source": [
    "import pandas as pd\n",
    "\n",
    "json_str = '{\"country\":\"Netherlands\",\"dma_code\":\"0\",\"timezone\":\"Europe\\/Amsterdam\",\"area_code\":\"0\",\"ip\":\"46.19.37.108\",\"asn\":\"AS196752\",\"continent_code\":\"EU\",\"isp\":\"Tilaa V.O.F.\",\"longitude\":5.75,\"latitude\":52.5,\"country_code\":\"NL\",\"country_code3\":\"NLD\"}'\n",
    "\n",
    "data = pd.read_json(json_str, typ='series')\n",
    "print(\"Series\\n\", data)\n",
    "\n",
    "data[\"country\"] = \"Brazil\"\n",
    "print(\"New Series\\n\", data.to_json())"
   ]
  },
  {
   "cell_type": "markdown",
   "metadata": {},
   "source": [
    "# Parsing RSS and Atom Feeds"
   ]
  },
  {
   "cell_type": "code",
   "execution_count": 10,
   "metadata": {},
   "outputs": [
    {
     "name": "stdout",
     "output_type": "stream",
     "text": [
      "# Entries 10\n"
     ]
    }
   ],
   "source": [
    "import feedparser as fp\n",
    "\n",
    "rss = fp.parse(\"http://www.packtpub.com/rss.xml\")\n",
    "\n",
    "print(\"# Entries\", len(rss.entries))"
   ]
  },
  {
   "cell_type": "code",
   "execution_count": 11,
   "metadata": {},
   "outputs": [
    {
     "name": "stdout",
     "output_type": "stream",
     "text": [
      "6 FastTrack to OOP - Classes and Interfaces\n",
      "<p>In this article by <strong>Mohamed Sanaulla</strong> and <strong>Nick Samoylov</strong>, the authors of <a href=\"https://www.packtpub.com/application-development/java-9-cookbook\">Java 9 Cookbook</a>, we will cover the following recipe:</p>\n",
      "<ul>\n",
      "<li>Implementing object-oriented design using classes</li>\n",
      "</ul>\n",
      "<p style=\"margin-left: 40px; margin-right: 40px;\" align=\"center\"><em>(For more resources related to this topic, see <a href=\"https://www.packtpub.com/application-development/java-9-cookbook\">here</a>.)</em></p>\n",
      "<p><span style=\"background-color: transparent;\"><strong>Implementing object-oriented design using classes</strong> </span></p>\n",
      "<p><span style=\"background-color: transparent;\">In this recipe, you will learn about the first two OOD concepts--object/class and encapsulation. </span></p>\n",
      "<p><span style=\"background-color: transparent;\"><strong>Getting ready</strong> </span></p>\n",
      "<p><a href=\"http://www.packtpub.com/books/content/fasttrack-oop-classes-and-interfaces\" target=\"_blank\">read more</a></p>\n"
     ]
    }
   ],
   "source": [
    "for i, entry in enumerate(rss.entries):\n",
    "   if \"Java\" in entry.summary:\n",
    "      print(i, entry.title)\n",
    "      print(entry.summary)"
   ]
  },
  {
   "cell_type": "markdown",
   "metadata": {},
   "source": [
    "# Parsing HTML with Beautiful Soup"
   ]
  },
  {
   "cell_type": "code",
   "execution_count": 12,
   "metadata": {},
   "outputs": [
    {
     "name": "stdout",
     "output_type": "stream",
     "text": [
      "First div\n",
      " <div class=\"tile\">\n",
      "<h4>Development</h4>\n",
      "     0.10.1 - July 2014<br/>\n",
      "</div>\n",
      "First div class ['tile']\n",
      "First dfn text Quare attende, quaeso.\n",
      "Link text loripsum.net URL http://loripsum.net/\n",
      "Link text Poterat autem inpune; URL http://loripsum.net/\n",
      "Link text Is es profecto tu. URL http://loripsum.net/\n",
      "0 ['\\n', <h4>Development</h4>, '\\n     0.10.1 - July 2014', <br/>, '\\n']\n",
      "1 ['\\n', <h4>Official Release</h4>, '\\n     0.10.0 June 2014', <br/>, '\\n']\n",
      "2 ['\\n', <h4>Previous Release</h4>, '\\n     0.09.1 June 2013', <br/>, '\\n']\n",
      "Official Version 0.10.0 June 2014\n",
      "# elements with class 3\n",
      "# Tile classes 2\n",
      "# Divs with class containing tile 3\n",
      "Using CSS selector\n",
      " [<div class=\"notile\">\n",
      "<h4>Previous Release</h4>\n",
      "     0.09.1 June 2013<br/>\n",
      "</div>]\n",
      "Selecting ordered list list items\n",
      " [<li>Cur id non ita fit?</li>, <li>In qua si nihil est praeter rationem, sit in una virtute finis bonorum;</li>]\n",
      "Second list item in ordered list [<li>In qua si nihil est praeter rationem, sit in una virtute finis bonorum;</li>]\n",
      "Searching for text string ['\\n     0.10.1 - July 2014', '\\n     0.10.0 June 2014']\n"
     ]
    }
   ],
   "source": [
    "from bs4 import BeautifulSoup\n",
    "import re\n",
    "\n",
    "soup = BeautifulSoup(open('loremIpsum.html'),\"lxml\")\n",
    "\n",
    "print(\"First div\\n\", soup.div)\n",
    "print(\"First div class\", soup.div['class'])\n",
    "\n",
    "print(\"First dfn text\", soup.dl.dt.dfn.text)\n",
    "\n",
    "for link in soup.find_all('a'):\n",
    "   print(\"Link text\", link.string, \"URL\", link.get('href'))\n",
    "\n",
    "# Omitting find_all\n",
    "for i, div in enumerate(soup('div')):\n",
    "   print(i, div.contents)\n",
    "\n",
    "\n",
    "#Div with id=official\n",
    "official_div = soup.find_all(\"div\", id=\"official\")\n",
    "print(\"Official Version\", official_div[0].contents[2].strip())\n",
    "\n",
    "print(\"# elements with class\", len(soup.find_all(class_=True)))\n",
    "\n",
    "tile_class = soup.find_all(\"div\", class_=\"tile\")\n",
    "print(\"# Tile classes\", len(tile_class))\n",
    "\n",
    "print(\"# Divs with class containing tile\", len(soup.find_all(\"div\", class_=re.compile(\"tile\"))))\n",
    "\n",
    "print(\"Using CSS selector\\n\", soup.select('div.notile'))\n",
    "print(\"Selecting ordered list list items\\n\", soup.select(\"ol > li\")[:2])\n",
    "print(\"Second list item in ordered list\", soup.select(\"ol > li:nth-of-type(2)\"))\n",
    "\n",
    "print(\"Searching for text string\", soup.find_all(text=re.compile(\"2014\")))"
   ]
  },
  {
   "cell_type": "code",
   "execution_count": null,
   "metadata": {
    "collapsed": true
   },
   "outputs": [],
   "source": []
  }
 ],
 "metadata": {
  "kernelspec": {
   "display_name": "Python 3",
   "language": "python",
   "name": "python3"
  },
  "language_info": {
   "codemirror_mode": {
    "name": "ipython",
    "version": 3
   },
   "file_extension": ".py",
   "mimetype": "text/x-python",
   "name": "python",
   "nbconvert_exporter": "python",
   "pygments_lexer": "ipython3",
   "version": "3.6.4"
  }
 },
 "nbformat": 4,
 "nbformat_minor": 2
}
