{
 "cells": [
  {
   "cell_type": "markdown",
   "metadata": {},
   "source": [
    "# Chapter 11 : Interfacing with External Environments"
   ]
  },
  {
   "cell_type": "markdown",
   "metadata": {},
   "source": [
    "# Matlab and Octave"
   ]
  },
  {
   "cell_type": "code",
   "execution_count": 1,
   "metadata": {},
   "outputs": [
    {
     "name": "stderr",
     "output_type": "stream",
     "text": [
      "/home/vivoadmin/anaconda3/lib/python3.6/site-packages/statsmodels/compat/pandas.py:56: FutureWarning: The pandas.core.datetools module is deprecated and will be removed in a future version. Please use the pandas.tseries module instead.\n",
      "  from pandas.core import datetools\n"
     ]
    }
   ],
   "source": [
    "import statsmodels.api as sm\n",
    "from scipy.io import savemat\n",
    "\n",
    "data_loader = sm.datasets.sunspots.load_pandas()\n",
    "df = data_loader.data\n",
    "savemat(\"sunspots\", {\"sunspots\": df.values})"
   ]
  },
  {
   "cell_type": "markdown",
   "metadata": {},
   "source": [
    "# R"
   ]
  },
  {
   "cell_type": "code",
   "execution_count": 4,
   "metadata": {},
   "outputs": [
    {
     "name": "stdout",
     "output_type": "stream",
     "text": [
      "Kruskal KruskalResult(statistic=15.022124661246552, pvalue=0.0046555484175328015)\n"
     ]
    },
    {
     "data": {
      "image/png": "[encoded data removed]",
      "text/plain": [
       "<matplotlib.figure.Figure at 0x7f8978378b00>"
      ]
     },
     "metadata": {},
     "output_type": "display_data"
    }
   ],
   "source": [
    "import rpy2.robjects as ro\n",
    "from rpy2.robjects import pandas2ri\n",
    "from rpy2.robjects import r\n",
    "\n",
    "from scipy.stats import kruskal\n",
    "import matplotlib.pyplot as plt\n",
    "import numpy as np\n",
    "from scipy.constants import c\n",
    "\n",
    "%matplotlib inline \n",
    "\n",
    "pandas2ri.activate()\n",
    "r.data('morley')\n",
    "df = r['morley']\n",
    "\n",
    "df['Speed'] = df['Speed'] + 299000\n",
    "\n",
    "samples = dict(list(df.groupby('Expt')))\n",
    "samples = np.array([samples[i]['Speed'].values for i in \n",
    "samples.keys()])\n",
    "print(\"Kruskal\", kruskal(samples[0], samples[1], samples[2], samples[3], samples[4]))\n",
    "\n",
    "plt.title('Speed of light')\n",
    "plt.plot(samples.min(axis=1), 'x', label='min')\n",
    "plt.plot(samples.mean(axis=1), 'o', label='mean')\n",
    "plt.plot(np.ones(5) * samples.mean(), '--', label='All mean')\n",
    "plt.plot(np.ones(5) * c/1000, lw=2, label='Actual')\n",
    "plt.plot(samples.max(axis=1), 'v', label='max')\n",
    "plt.grid(True)\n",
    "plt.legend()\n",
    "plt.show()"
   ]
  },
  {
   "cell_type": "markdown",
   "metadata": {},
   "source": [
    "# Java"
   ]
  },
  {
   "cell_type": "code",
   "execution_count": 6,
   "metadata": {},
   "outputs": [],
   "source": [
    "import jpype\n",
    "import numpy as np\n",
    "from numpy import random\n",
    "jpype.startJVM(jpype.getDefaultJVMPath())\n",
    "\n",
    "random.seed(44)\n",
    "values = np.random.randn(7)\n",
    "java_array = jpype.JArray(jpype.JDouble, 1)(values.tolist())\n",
    "\n",
    "for item in java_array:\n",
    "   jpype.java.lang.System.out.println(item)\n",
    "\n",
    "jpype.shutdownJVM()"
   ]
  },
  {
   "cell_type": "code",
   "execution_count": null,
   "metadata": {
    "collapsed": true
   },
   "outputs": [],
   "source": []
  }
 ],
 "metadata": {
  "kernelspec": {
   "display_name": "Python 3",
   "language": "python",
   "name": "python3"
  },
  "language_info": {
   "codemirror_mode": {
    "name": "ipython",
    "version": 3
   },
   "file_extension": ".py",
   "mimetype": "text/x-python",
   "name": "python",
   "nbconvert_exporter": "python",
   "pygments_lexer": "ipython3",
   "version": "3.6.4"
  }
 },
 "nbformat": 4,
 "nbformat_minor": 2
}
