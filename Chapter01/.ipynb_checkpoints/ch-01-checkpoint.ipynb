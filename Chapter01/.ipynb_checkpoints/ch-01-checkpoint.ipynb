{
 "cells": [
  {
   "cell_type": "markdown",
   "metadata": {},
   "source": [
    "# Chapter 1 : Getting Started"
   ]
  },
  {
   "cell_type": "markdown",
   "metadata": {},
   "source": [
    "# vector addition the Python way.\n",
    "\n",
    "### The first vector to be added contains the squares of 0 up to n.\n",
    "### The second vector contains the cubes of 0 up to n.\n",
    "### The program prints the last 2 elements of the sum and the elapsed time."
   ]
  },
  {
   "cell_type": "code",
   "execution_count": 1,
   "metadata": {},
   "outputs": [],
   "source": [
    "import sys\n",
    "from datetime import datetime\n",
    "import numpy as np"
   ]
  },
  {
   "cell_type": "code",
   "execution_count": 2,
   "metadata": {},
   "outputs": [],
   "source": [
    "def numpysum(n):\n",
    "   a = np.arange(n) ** 2\n",
    "   b = np.arange(n) ** 3\n",
    "   c = a + b\n",
    "\n",
    "   return c"
   ]
  },
  {
   "cell_type": "code",
   "execution_count": 3,
   "metadata": {},
   "outputs": [],
   "source": [
    "def pythonsum(n):\n",
    "   a = list(range(n))\n",
    "   b = list(range(n))\n",
    "   c = []\n",
    "\n",
    "   for i in range(len(a)):\n",
    "       a[i] = i ** 2\n",
    "       b[i] = i ** 3\n",
    "       c.append(a[i] + b[i])\n",
    "\n",
    "   return c"
   ]
  },
  {
   "cell_type": "markdown",
   "metadata": {},
   "source": [
    "## size is an integer that specifies the size of the vectors."
   ]
  },
  {
   "cell_type": "code",
   "execution_count": 4,
   "metadata": {},
   "outputs": [],
   "source": [
    "size = 10000"
   ]
  },
  {
   "cell_type": "code",
   "execution_count": 6,
   "metadata": {},
   "outputs": [
    {
     "name": "stdout",
     "output_type": "stream",
     "text": [
      "The last 2 elements of the sum [999500079996, 999800010000]\n",
      "PythonSum elapsed time in microseconds 20870\n",
      "The last 2 elements of the sum [999500079996 999800010000]\n",
      "NumPySum elapsed time in microseconds 1407\n"
     ]
    }
   ],
   "source": [
    "start = datetime.now()\n",
    "c = pythonsum(size)\n",
    "delta = datetime.now() - start\n",
    "print(\"The last 2 elements of the sum\", c[-2:])\n",
    "print(\"PythonSum elapsed time in microseconds\", delta.microseconds)\n",
    "\n",
    "start = datetime.now()\n",
    "c = numpysum(size)\n",
    "delta = datetime.now() - start\n",
    "print(\"The last 2 elements of the sum\", c[-2:])\n",
    "print(\"NumPySum elapsed time in microseconds\", delta.microseconds)"
   ]
  },
  {
   "cell_type": "markdown",
   "metadata": {
    "collapsed": true
   },
   "source": [
    "# printing modules in numpy, scipy and pandas"
   ]
  },
  {
   "cell_type": "code",
   "execution_count": 8,
   "metadata": {
    "scrolled": false
   },
   "outputs": [
    {
     "name": "stdout",
     "output_type": "stream",
     "text": [
      "NumPy version 1.14.0\n",
      "SciPy version 1.0.0\n",
      "pandas version 0.22.0\n",
      "Matplotlib version 2.1.2\n",
      "\n",
      "\n",
      "numpy.compat DESCRIPTION This module contains duplicated code from Python itself or 3rd party extensions, which may be included for the following reasons\n",
      "numpy.core DESCRIPTION Functions - array - NumPy Array construction - zeros - Return an array of all zeros - empty - Return an uninitialized array - sh\n",
      "numpy.distutils \n",
      "numpy.doc DESCRIPTION Topical documentation  The following topics are available: - basics - broadcasting - byteswapping - constants - creation - gloss\n",
      "numpy.f2py \n",
      "numpy.fft DESCRIPTION Discrete Fourier Transform (:mod:`numpy.fft`)  .. currentmodule:: numpy.fft Standard FFTs ------------- .. autosummary:: :toctre\n",
      "numpy.lib DESCRIPTION Basic functions used by several sub-packages and useful to have in the main name-space. Type Handling -------------   iscomplexo\n",
      "numpy.linalg DESCRIPTION Core Linear Algebra Tools ------------------------- Linear algebra basics: - norm Vector or matrix norm - inv Inverse of a squar\n",
      "numpy.ma DESCRIPTION  Masked Arrays  Arrays sometimes contain invalid or missing data. When doing operations on such arrays, we wish to suppress inva\n",
      "numpy.matrixlib \n",
      "numpy.polynomial DESCRIPTION Within the documentation for this sub-package, a \"finite power series,\" i.e., a polynomial (also referred to simply as a \"series\n",
      "numpy.random DESCRIPTION  Random Number Generation    Utility functions  random_sample Uniformly distributed floats over ``[0, 1)``. random Alias for `ra\n",
      "numpy.testing DESCRIPTION This single module should provide all the common functionality for numpy tests in a single location, so that test scripts can ju\n",
      "numpy.tests \n",
      "\n",
      "\n",
      "scipy._build_utils \n",
      "scipy._lib DESCRIPTION Module containing private utility functions  The ``scipy._lib`` namespace is empty (for now). Tests for all utilities in submodu\n",
      "scipy.cluster DESCRIPTION  Clustering package (:mod:`scipy.cluster`)  .. currentmodule:: scipy.cluster :mod:`scipy.cluster.vq` Clustering algorithms are u\n",
      "scipy.constants DESCRIPTION  Constants (:mod:`scipy.constants`)  .. currentmodule:: scipy.constants Physical and mathematical constants and units. Mathemati\n",
      "scipy.fftpack DESCRIPTION  Discrete Fourier transforms (:mod:`scipy.fftpack`)  Fast Fourier Transforms (FFTs)  .. autosummary:: :toctree: generated/ fft -\n",
      "scipy.integrate DESCRIPTION  Integration and ODEs (:mod:`scipy.integrate`)  .. currentmodule:: scipy.integrate Integrating functions, given function object \n",
      "scipy.interpolate DESCRIPTION  Interpolation (:mod:`scipy.interpolate`)  .. currentmodule:: scipy.interpolate Sub-package for objects used in interpolation. A\n",
      "scipy.io DESCRIPTION  Input and output (:mod:`scipy.io`)  .. currentmodule:: scipy.io SciPy has many modules, classes, and functions available to rea\n",
      "scipy.linalg DESCRIPTION  Linear algebra (:mod:`scipy.linalg`)  .. currentmodule:: scipy.linalg Linear algebra functions. .. seealso:: `numpy.linalg` for\n",
      "scipy.misc DESCRIPTION  Miscellaneous routines (:mod:`scipy.misc`)  .. currentmodule:: scipy.misc Various utilities that don't have another home. Note \n",
      "scipy.ndimage DESCRIPTION  Multi-dimensional image processing (:mod:`scipy.ndimage`)  .. currentmodule:: scipy.ndimage This package contains various funct\n",
      "scipy.odr DESCRIPTION  Orthogonal distance regression (:mod:`scipy.odr`)  .. currentmodule:: scipy.odr Package Content  .. autosummary:: :toctree: gen\n",
      "scipy.optimize DESCRIPTION  Optimization and root finding (:mod:`scipy.optimize`)  .. currentmodule:: scipy.optimize Optimization  Local Optimization -----\n",
      "scipy.signal DESCRIPTION  Signal processing (:mod:`scipy.signal`)  Convolution  .. autosummary:: :toctree: generated/ convolve -- N-dimensional convoluti\n",
      "scipy.sparse DESCRIPTION  Sparse matrices (:mod:`scipy.sparse`)  .. currentmodule:: scipy.sparse SciPy 2-D sparse matrix package for numeric data. Conten\n",
      "scipy.spatial DESCRIPTION  Spatial algorithms and data structures (:mod:`scipy.spatial`)  .. currentmodule:: scipy.spatial Nearest-neighbor Queries  .. au\n",
      "scipy.special DESCRIPTION  Special functions (:mod:`scipy.special`)  .. module:: scipy.special Nearly all of the functions below are universal functions a\n",
      "scipy.stats DESCRIPTION  Statistical functions (:mod:`scipy.stats`)  .. module:: scipy.stats This module contains a large number of probability distribu\n",
      "\n",
      "\n",
      "pandas._libs DESCRIPTION # -*- coding: utf-8 -*- # flake8: noqa PACKAGE CONTENTS algos groupby hashing hashtable index interval join json lib parsers per\n",
      "pandas.api \n",
      "pandas.compat DESCRIPTION compat  Cross-compatible functions for Python 2 and 3. Key items to import for 2/3 compatible code: * iterators: range(), map(),\n",
      "pandas.computation \n",
      "pandas.core \n",
      "pandas.errors \n",
      "pandas.formats \n",
      "pandas.io \n",
      "pandas.plotting \n",
      "pandas.stats \n",
      "pandas.tests \n",
      "pandas.tools \n",
      "pandas.tseries \n",
      "pandas.types \n",
      "pandas.util \n",
      "\n",
      "\n",
      "matplotlib.axes \n",
      "matplotlib.backends \n",
      "matplotlib.cbook DESCRIPTION A collection of utility functions and classes. Originally, many (but not all) were from the Python Cookbook -- hence the name cb\n",
      "matplotlib.compat \n",
      "matplotlib.projections \n",
      "matplotlib.sphinxext \n",
      "matplotlib.style \n",
      "matplotlib.testing \n",
      "matplotlib.tri \n"
     ]
    }
   ],
   "source": [
    "import pkgutil as pu\n",
    "import pydoc\n",
    "\n",
    "import numpy as np\n",
    "import scipy as sp\n",
    "import pandas as pd\n",
    "import matplotlib as mpl\n",
    "\n",
    "print(\"NumPy version\", np.__version__)\n",
    "print(\"SciPy version\", sp.__version__)\n",
    "print(\"pandas version\", pd.__version__)\n",
    "print(\"Matplotlib version\", mpl.__version__)\n",
    "\n",
    "def clean(astr):\n",
    "   s = astr\n",
    "   # remove multiple spaces\n",
    "   s = ' '.join(s.split())\n",
    "   s = s.replace('=','')\n",
    "\n",
    "   return s\n",
    "\n",
    "def print_desc(prefix, pkg_path):\n",
    "   for pkg in pu.iter_modules(path=pkg_path):\n",
    "      name = prefix + \".\" + pkg[1]\n",
    "\n",
    "      if pkg[2] == True:\n",
    "         try:\n",
    "            docstr = pydoc.plain(pydoc.render_doc(name))\n",
    "            docstr = clean(docstr)\n",
    "            start = docstr.find(\"DESCRIPTION\")\n",
    "            docstr = docstr[start: start + 140]\n",
    "            print(name, docstr)\n",
    "         except:\n",
    "            continue\n",
    "\n",
    "print(\"\\n\")\n",
    "print_desc(\"numpy\", np.__path__)\n",
    "print(\"\\n\")\n",
    "print_desc(\"scipy\", sp.__path__)\n",
    "print(\"\\n\")\n",
    "print_desc(\"pandas\", pd.__path__)\n",
    "print(\"\\n\")\n",
    "print_desc(\"matplotlib\", mpl.__path__)"
   ]
  },
  {
   "cell_type": "markdown",
   "metadata": {
    "collapsed": true
   },
   "source": [
    "# Matplotlib plots"
   ]
  },
  {
   "cell_type": "code",
   "execution_count": 9,
   "metadata": {},
   "outputs": [],
   "source": [
    "from sklearn.datasets import load_iris\n",
    "from sklearn.datasets import load_boston\n",
    "from matplotlib import pyplot as plt"
   ]
  },
  {
   "cell_type": "code",
   "execution_count": 10,
   "metadata": {},
   "outputs": [
    {
     "name": "stdout",
     "output_type": "stream",
     "text": [
      "Iris Plants Database\n",
      "====================\n",
      "\n",
      "Notes\n",
      "-----\n",
      "Data Set Characteristics:\n",
      "    :Number of Instances: 150 (50 in each of three classes)\n",
      "    :Number of Attributes: 4 numeric, predictive attributes and the class\n",
      "    :Attribute Information:\n",
      "        - sepal length in cm\n",
      "        - sepal width in cm\n",
      "        - petal length in cm\n",
      "        - petal width in cm\n",
      "        - class:\n",
      "                - Iris-Setosa\n",
      "                - Iris-Versicolour\n",
      "                - Iris-Virginica\n",
      "    :Summary Statistics:\n",
      "\n",
      "    ============== ==== ==== ======= ===== ====================\n",
      "                    Min  Max   Mean    SD   Class Correlation\n",
      "    ============== ==== ==== ======= ===== ====================\n",
      "    sepal length:   4.3  7.9   5.84   0.83    0.7826\n",
      "    sepal width:    2.0  4.4   3.05   0.43   -0.4194\n",
      "    petal length:   1.0  6.9   3.76   1.76    0.9490  (high!)\n",
      "    petal width:    0.1  2.5   1.20  0.76     0.9565  (high!)\n",
      "    ============== ==== ==== ======= ===== ====================\n",
      "\n",
      "    :Missing Attribute Values: None\n",
      "    :Class Distribution: 33.3% for each of 3 classes.\n",
      "    :Creator: R.A. Fisher\n",
      "    :Donor: Michael Marshall (MARSHALL%PLU@io.arc.nasa.gov)\n",
      "    :Date: July, 1988\n",
      "\n",
      "This is a copy of UCI ML iris datasets.\n",
      "http://archive.ics.uci.edu/ml/datasets/Iris\n",
      "\n",
      "The famous Iris database, first used by Sir R.A Fisher\n",
      "\n",
      "This is perhaps the best known database to be found in the\n",
      "pattern recognition literature.  Fisher's paper is a classic in the field and\n",
      "is referenced frequently to this day.  (See Duda & Hart, for example.)  The\n",
      "data set contains 3 classes of 50 instances each, where each class refers to a\n",
      "type of iris plant.  One class is linearly separable from the other 2; the\n",
      "latter are NOT linearly separable from each other.\n",
      "\n",
      "References\n",
      "----------\n",
      "   - Fisher,R.A. \"The use of multiple measurements in taxonomic problems\"\n",
      "     Annual Eugenics, 7, Part II, 179-188 (1936); also in \"Contributions to\n",
      "     Mathematical Statistics\" (John Wiley, NY, 1950).\n",
      "   - Duda,R.O., & Hart,P.E. (1973) Pattern Classification and Scene Analysis.\n",
      "     (Q327.D83) John Wiley & Sons.  ISBN 0-471-22361-1.  See page 218.\n",
      "   - Dasarathy, B.V. (1980) \"Nosing Around the Neighborhood: A New System\n",
      "     Structure and Classification Rule for Recognition in Partially Exposed\n",
      "     Environments\".  IEEE Transactions on Pattern Analysis and Machine\n",
      "     Intelligence, Vol. PAMI-2, No. 1, 67-71.\n",
      "   - Gates, G.W. (1972) \"The Reduced Nearest Neighbor Rule\".  IEEE Transactions\n",
      "     on Information Theory, May 1972, 431-433.\n",
      "   - See also: 1988 MLC Proceedings, 54-64.  Cheeseman et al\"s AUTOCLASS II\n",
      "     conceptual clustering system finds 3 classes in the data.\n",
      "   - Many, many more ...\n",
      "\n"
     ]
    }
   ],
   "source": [
    "iris = load_iris()\n",
    "print(iris.DESCR)"
   ]
  },
  {
   "cell_type": "code",
   "execution_count": 11,
   "metadata": {},
   "outputs": [
    {
     "data": {
      "image/png": "[encoded data removed]",
      "text/plain": [
       "<matplotlib.figure.Figure at 0x7f3d60c217f0>"
      ]
     },
     "metadata": {},
     "output_type": "display_data"
    }
   ],
   "source": [
    "data=iris.data\n",
    "plt.plot(data[:,0],data[:,1],\".\")\n",
    "plt.show()"
   ]
  },
  {
   "cell_type": "code",
   "execution_count": 12,
   "metadata": {},
   "outputs": [
    {
     "name": "stdout",
     "output_type": "stream",
     "text": [
      "Boston House Prices dataset\n",
      "===========================\n",
      "\n",
      "Notes\n",
      "------\n",
      "Data Set Characteristics:  \n",
      "\n",
      "    :Number of Instances: 506 \n",
      "\n",
      "    :Number of Attributes: 13 numeric/categorical predictive\n",
      "    \n",
      "    :Median Value (attribute 14) is usually the target\n",
      "\n",
      "    :Attribute Information (in order):\n",
      "        - CRIM     per capita crime rate by town\n",
      "        - ZN       proportion of residential land zoned for lots over 25,000 sq.ft.\n",
      "        - INDUS    proportion of non-retail business acres per town\n",
      "        - CHAS     Charles River dummy variable (= 1 if tract bounds river; 0 otherwise)\n",
      "        - NOX      nitric oxides concentration (parts per 10 million)\n",
      "        - RM       average number of rooms per dwelling\n",
      "        - AGE      proportion of owner-occupied units built prior to 1940\n",
      "        - DIS      weighted distances to five Boston employment centres\n",
      "        - RAD      index of accessibility to radial highways\n",
      "        - TAX      full-value property-tax rate per $10,000\n",
      "        - PTRATIO  pupil-teacher ratio by town\n",
      "        - B        1000(Bk - 0.63)^2 where Bk is the proportion of blacks by town\n",
      "        - LSTAT    % lower status of the population\n",
      "        - MEDV     Median value of owner-occupied homes in $1000's\n",
      "\n",
      "    :Missing Attribute Values: None\n",
      "\n",
      "    :Creator: Harrison, D. and Rubinfeld, D.L.\n",
      "\n",
      "This is a copy of UCI ML housing dataset.\n",
      "http://archive.ics.uci.edu/ml/datasets/Housing\n",
      "\n",
      "\n",
      "This dataset was taken from the StatLib library which is maintained at Carnegie Mellon University.\n",
      "\n",
      "The Boston house-price data of Harrison, D. and Rubinfeld, D.L. 'Hedonic\n",
      "prices and the demand for clean air', J. Environ. Economics & Management,\n",
      "vol.5, 81-102, 1978.   Used in Belsley, Kuh & Welsch, 'Regression diagnostics\n",
      "...', Wiley, 1980.   N.B. Various transformations are used in the table on\n",
      "pages 244-261 of the latter.\n",
      "\n",
      "The Boston house-price data has been used in many machine learning papers that address regression\n",
      "problems.   \n",
      "     \n",
      "**References**\n",
      "\n",
      "   - Belsley, Kuh & Welsch, 'Regression diagnostics: Identifying Influential Data and Sources of Collinearity', Wiley, 1980. 244-261.\n",
      "   - Quinlan,R. (1993). Combining Instance-Based and Model-Based Learning. In Proceedings on the Tenth International Conference of Machine Learning, 236-243, University of Massachusetts, Amherst. Morgan Kaufmann.\n",
      "   - many more! (see http://archive.ics.uci.edu/ml/datasets/Housing)\n",
      "\n"
     ]
    }
   ],
   "source": [
    "boston = load_boston()\n",
    "print(boston.DESCR)"
   ]
  },
  {
   "cell_type": "code",
   "execution_count": 13,
   "metadata": {},
   "outputs": [
    {
     "data": {
      "image/png": "[encoded data removed]",
      "text/plain": [
       "<matplotlib.figure.Figure at 0x7f3d5905a630>"
      ]
     },
     "metadata": {},
     "output_type": "display_data"
    }
   ],
   "source": [
    "data=boston.data\n",
    "plt.plot(data[:,2],data[:,4],\"+\")\n",
    "plt.show()"
   ]
  },
  {
   "cell_type": "code",
   "execution_count": null,
   "metadata": {},
   "outputs": [],
   "source": []
  }
 ],
 "metadata": {
  "kernelspec": {
   "display_name": "Python 3",
   "language": "python",
   "name": "python3"
  },
  "language_info": {
   "codemirror_mode": {
    "name": "ipython",
    "version": 3
   },
   "file_extension": ".py",
   "mimetype": "text/x-python",
   "name": "python",
   "nbconvert_exporter": "python",
   "pygments_lexer": "ipython3",
   "version": "3.6.4"
  }
 },
 "nbformat": 4,
 "nbformat_minor": 1
}
