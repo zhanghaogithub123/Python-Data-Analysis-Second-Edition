{
 "cells": [
  {
   "cell_type": "markdown",
   "metadata": {},
   "source": [
    "# Chapter 3 : pandas"
   ]
  },
  {
   "cell_type": "markdown",
   "metadata": {
    "collapsed": true
   },
   "source": [
    "# pandas DataFrames"
   ]
  },
  {
   "cell_type": "code",
   "execution_count": 1,
   "metadata": {},
   "outputs": [],
   "source": [
    "import numpy as np\n",
    "import scipy as sp\n",
    "import pandas as pd"
   ]
  },
  {
   "cell_type": "markdown",
   "metadata": {},
   "source": [
    "## Load the data file into data frame"
   ]
  },
  {
   "cell_type": "code",
   "execution_count": 2,
   "metadata": {},
   "outputs": [
    {
     "name": "stdout",
     "output_type": "stream",
     "text": [
      "Dataframe:\n",
      "                       Country  CountryID  Continent  \\\n",
      "0                 Afghanistan          1          1   \n",
      "1                     Albania          2          2   \n",
      "2                     Algeria          3          3   \n",
      "3                     Andorra          4          2   \n",
      "4                      Angola          5          3   \n",
      "5         Antigua and Barbuda          6          4   \n",
      "6                   Argentina          7          5   \n",
      "7                     Armenia          8          2   \n",
      "8                   Australia          9          6   \n",
      "9                     Austria         10          2   \n",
      "10                 Azerbaijan         11          2   \n",
      "11                    Bahamas         12          4   \n",
      "12                    Bahrain         13          1   \n",
      "13                 Bangladesh         14          7   \n",
      "14                   Barbados         15          4   \n",
      "15                    Belarus         16          2   \n",
      "16                    Belgium         17          2   \n",
      "17                     Belize         18          5   \n",
      "18                      Benin         19          3   \n",
      "19                    Bermuda         20          4   \n",
      "20                     Bhutan         21          7   \n",
      "21                    Bolivia         22          5   \n",
      "22     Bosnia and Herzegovina         23          2   \n",
      "23                   Botswana         24          3   \n",
      "24                     Brazil         25          5   \n",
      "25          Brunei Darussalam         26          6   \n",
      "26                   Bulgaria         27          2   \n",
      "27               Burkina Faso         28          3   \n",
      "28                    Burundi         29          3   \n",
      "29                   Cambodia         30          7   \n",
      "..                        ...        ...        ...   \n",
      "172                 Swaziland        173          3   \n",
      "173                    Sweden        174          2   \n",
      "174               Switzerland        175          2   \n",
      "175                     Syria        176          1   \n",
      "176                    Taiwan        177          6   \n",
      "177                Tajikistan        178          2   \n",
      "178                  Tanzania        179          3   \n",
      "179                  Thailand        180          6   \n",
      "180               Timor-Leste        181          6   \n",
      "181                      Togo        182          3   \n",
      "182                     Tonga        183          6   \n",
      "183       Trinidad and Tobago        184          5   \n",
      "184                   Tunisia        185          1   \n",
      "185                    Turkey        186          2   \n",
      "186              Turkmenistan        187          2   \n",
      "187                    Tuvalu        188          6   \n",
      "188                    Uganda        189          3   \n",
      "189                   Ukraine        190          2   \n",
      "190      United Arab Emirates        191          1   \n",
      "191            United Kingdom        192          2   \n",
      "192  United States of America        193          4   \n",
      "193                   Uruguay        194          5   \n",
      "194                Uzbekistan        195          2   \n",
      "195                   Vanuatu        196          6   \n",
      "196                 Venezuela        197          5   \n",
      "197                   Vietnam        198          6   \n",
      "198        West Bank and Gaza        199          1   \n",
      "199                     Yemen        200          1   \n",
      "200                    Zambia        201          3   \n",
      "201                  Zimbabwe        202          3   \n",
      "\n",
      "     Adolescent fertility rate (%)  Adult literacy rate (%)  \\\n",
      "0                            151.0                     28.0   \n",
      "1                             27.0                     98.7   \n",
      "2                              6.0                     69.9   \n",
      "3                              NaN                      NaN   \n",
      "4                            146.0                     67.4   \n",
      "5                              NaN                      NaN   \n",
      "6                             62.0                     97.2   \n",
      "7                             30.0                     99.4   \n",
      "8                             16.0                      NaN   \n",
      "9                             14.0                      NaN   \n",
      "10                            31.0                     98.8   \n",
      "11                            46.0                      NaN   \n",
      "12                            14.0                     86.5   \n",
      "13                           135.0                     47.5   \n",
      "14                            51.0                      NaN   \n",
      "15                            22.0                     99.6   \n",
      "16                             5.0                      NaN   \n",
      "17                            90.0                     70.3   \n",
      "18                           108.0                     34.7   \n",
      "19                             NaN                      NaN   \n",
      "20                            62.0                      NaN   \n",
      "21                            97.0                     86.7   \n",
      "22                            25.0                     96.7   \n",
      "23                            51.0                     81.2   \n",
      "24                            71.0                     88.6   \n",
      "25                            31.0                     92.7   \n",
      "26                            40.0                     98.2   \n",
      "27                           131.0                     23.6   \n",
      "28                            30.0                     59.3   \n",
      "29                            52.0                     73.6   \n",
      "..                             ...                      ...   \n",
      "172                           73.0                     79.6   \n",
      "173                            7.0                      NaN   \n",
      "174                            5.0                      NaN   \n",
      "175                           58.0                     80.8   \n",
      "176                            NaN                      NaN   \n",
      "177                           57.0                     99.5   \n",
      "178                          139.0                     69.4   \n",
      "179                           70.0                     92.6   \n",
      "180                           49.0                      NaN   \n",
      "181                           89.0                     53.2   \n",
      "182                           17.0                     98.9   \n",
      "183                           35.0                     98.5   \n",
      "184                            8.0                     74.3   \n",
      "185                           51.0                     87.4   \n",
      "186                           29.0                     98.8   \n",
      "187                            NaN                      NaN   \n",
      "188                          159.0                     68.1   \n",
      "189                           29.0                     99.4   \n",
      "190                           37.0                     88.5   \n",
      "191                           27.0                      NaN   \n",
      "192                           43.0                      NaN   \n",
      "193                           64.0                     96.8   \n",
      "194                           40.0                      NaN   \n",
      "195                           92.0                     75.5   \n",
      "196                           81.0                     93.0   \n",
      "197                           25.0                     90.3   \n",
      "198                            NaN                      NaN   \n",
      "199                           83.0                     54.1   \n",
      "200                          161.0                     68.0   \n",
      "201                          101.0                     89.5   \n",
      "\n",
      "     Gross national income per capita (PPP international $)  \\\n",
      "0                                                  NaN        \n",
      "1                                               6000.0        \n",
      "2                                               5940.0        \n",
      "3                                                  NaN        \n",
      "4                                               3890.0        \n",
      "5                                              15130.0        \n",
      "6                                              11670.0        \n",
      "7                                               4950.0        \n",
      "8                                              33940.0        \n",
      "9                                              36040.0        \n",
      "10                                              5430.0        \n",
      "11                                                 NaN        \n",
      "12                                             34310.0        \n",
      "13                                              1230.0        \n",
      "14                                             15150.0        \n",
      "15                                              9700.0        \n",
      "16                                             33860.0        \n",
      "17                                              7080.0        \n",
      "18                                              1250.0        \n",
      "19                                                 NaN        \n",
      "20                                              4000.0        \n",
      "21                                              3810.0        \n",
      "22                                              6780.0        \n",
      "23                                             11730.0        \n",
      "24                                              8700.0        \n",
      "25                                             49900.0        \n",
      "26                                             10270.0        \n",
      "27                                              1130.0        \n",
      "28                                               320.0        \n",
      "29                                              1550.0        \n",
      "..                                                 ...        \n",
      "172                                             4700.0        \n",
      "173                                            34310.0        \n",
      "174                                            40840.0        \n",
      "175                                             4110.0        \n",
      "176                                                NaN        \n",
      "177                                             1560.0        \n",
      "178                                              980.0        \n",
      "179                                             7440.0        \n",
      "180                                             5100.0        \n",
      "181                                              770.0        \n",
      "182                                             5470.0        \n",
      "183                                            16800.0        \n",
      "184                                             6490.0        \n",
      "185                                             8410.0        \n",
      "186                                             3990.0        \n",
      "187                                                NaN        \n",
      "188                                              880.0        \n",
      "189                                             6110.0        \n",
      "190                                            31190.0        \n",
      "191                                            33650.0        \n",
      "192                                            44070.0        \n",
      "193                                             9940.0        \n",
      "194                                             2190.0        \n",
      "195                                             3480.0        \n",
      "196                                            10970.0        \n",
      "197                                             2310.0        \n",
      "198                                                NaN        \n",
      "199                                             2090.0        \n",
      "200                                             1140.0        \n",
      "201                                                NaN        \n",
      "\n",
      "     Net primary school enrolment ratio female (%)  \\\n",
      "0                                              NaN   \n",
      "1                                             93.0   \n",
      "2                                             94.0   \n",
      "3                                             83.0   \n",
      "4                                             49.0   \n",
      "5                                              NaN   \n",
      "6                                             98.0   \n",
      "7                                             84.0   \n",
      "8                                             97.0   \n",
      "9                                             98.0   \n",
      "10                                            83.0   \n",
      "11                                            89.0   \n",
      "12                                            98.0   \n",
      "13                                            90.0   \n",
      "14                                            96.0   \n",
      "15                                            88.0   \n",
      "16                                            97.0   \n",
      "17                                            97.0   \n",
      "18                                            73.0   \n",
      "19                                             NaN   \n",
      "20                                            79.0   \n",
      "21                                            95.0   \n",
      "22                                             NaN   \n",
      "23                                            85.0   \n",
      "24                                            95.0   \n",
      "25                                            94.0   \n",
      "26                                            92.0   \n",
      "27                                            42.0   \n",
      "28                                            73.0   \n",
      "29                                            89.0   \n",
      "..                                             ...   \n",
      "172                                           79.0   \n",
      "173                                           95.0   \n",
      "174                                           89.0   \n",
      "175                                           92.0   \n",
      "176                                            NaN   \n",
      "177                                           95.0   \n",
      "178                                           97.0   \n",
      "179                                           94.0   \n",
      "180                                           67.0   \n",
      "181                                           75.0   \n",
      "182                                           94.0   \n",
      "183                                           85.0   \n",
      "184                                           97.0   \n",
      "185                                           89.0   \n",
      "186                                            NaN   \n",
      "187                                            NaN   \n",
      "188                                            NaN   \n",
      "189                                           90.0   \n",
      "190                                           88.0   \n",
      "191                                           99.0   \n",
      "192                                           93.0   \n",
      "193                                          100.0   \n",
      "194                                           78.0   \n",
      "195                                           86.0   \n",
      "196                                           91.0   \n",
      "197                                           91.0   \n",
      "198                                            NaN   \n",
      "199                                           65.0   \n",
      "200                                           94.0   \n",
      "201                                           88.0   \n",
      "\n",
      "     Net primary school enrolment ratio male (%)  \\\n",
      "0                                            NaN   \n",
      "1                                           94.0   \n",
      "2                                           96.0   \n",
      "3                                           83.0   \n",
      "4                                           51.0   \n",
      "5                                            NaN   \n",
      "6                                           99.0   \n",
      "7                                           80.0   \n",
      "8                                           96.0   \n",
      "9                                           97.0   \n",
      "10                                          86.0   \n",
      "11                                          87.0   \n",
      "12                                          98.0   \n",
      "13                                          87.0   \n",
      "14                                          97.0   \n",
      "15                                          90.0   \n",
      "16                                          97.0   \n",
      "17                                          97.0   \n",
      "18                                          87.0   \n",
      "19                                           NaN   \n",
      "20                                          79.0   \n",
      "21                                          94.0   \n",
      "22                                           NaN   \n",
      "23                                          83.0   \n",
      "24                                          93.0   \n",
      "25                                          94.0   \n",
      "26                                          93.0   \n",
      "27                                          52.0   \n",
      "28                                          76.0   \n",
      "29                                          91.0   \n",
      "..                                           ...   \n",
      "172                                         78.0   \n",
      "173                                         95.0   \n",
      "174                                         89.0   \n",
      "175                                         97.0   \n",
      "176                                          NaN   \n",
      "177                                         99.0   \n",
      "178                                         98.0   \n",
      "179                                         94.0   \n",
      "180                                         70.0   \n",
      "181                                         86.0   \n",
      "182                                         97.0   \n",
      "183                                         85.0   \n",
      "184                                         96.0   \n",
      "185                                         93.0   \n",
      "186                                          NaN   \n",
      "187                                          NaN   \n",
      "188                                          NaN   \n",
      "189                                         90.0   \n",
      "190                                         88.0   \n",
      "191                                         98.0   \n",
      "192                                         91.0   \n",
      "193                                        100.0   \n",
      "194                                         79.0   \n",
      "195                                         88.0   \n",
      "196                                         91.0   \n",
      "197                                         96.0   \n",
      "198                                          NaN   \n",
      "199                                         85.0   \n",
      "200                                         90.0   \n",
      "201                                         87.0   \n",
      "\n",
      "     Population (in thousands) total  \n",
      "0                            26088.0  \n",
      "1                             3172.0  \n",
      "2                            33351.0  \n",
      "3                               74.0  \n",
      "4                            16557.0  \n",
      "5                               84.0  \n",
      "6                            39134.0  \n",
      "7                             3010.0  \n",
      "8                            20530.0  \n",
      "9                             8327.0  \n",
      "10                            8406.0  \n",
      "11                             327.0  \n",
      "12                             739.0  \n",
      "13                          155991.0  \n",
      "14                             293.0  \n",
      "15                            9742.0  \n",
      "16                           10430.0  \n",
      "17                             282.0  \n",
      "18                            8760.0  \n",
      "19                               NaN  \n",
      "20                             649.0  \n",
      "21                            9354.0  \n",
      "22                            3926.0  \n",
      "23                            1858.0  \n",
      "24                          189323.0  \n",
      "25                             382.0  \n",
      "26                            7693.0  \n",
      "27                           14359.0  \n",
      "28                            8173.0  \n",
      "29                           14197.0  \n",
      "..                               ...  \n",
      "172                           1134.0  \n",
      "173                           9078.0  \n",
      "174                           7455.0  \n",
      "175                          19408.0  \n",
      "176                              NaN  \n",
      "177                           6640.0  \n",
      "178                          39459.0  \n",
      "179                          63444.0  \n",
      "180                           1114.0  \n",
      "181                           6410.0  \n",
      "182                            100.0  \n",
      "183                           1328.0  \n",
      "184                          10215.0  \n",
      "185                          73922.0  \n",
      "186                           4899.0  \n",
      "187                             10.0  \n",
      "188                          29899.0  \n",
      "189                          46557.0  \n",
      "190                           4248.0  \n",
      "191                          60512.0  \n",
      "192                         302841.0  \n",
      "193                           3331.0  \n",
      "194                          26981.0  \n",
      "195                            221.0  \n",
      "196                          27191.0  \n",
      "197                          86206.0  \n",
      "198                              NaN  \n",
      "199                          21732.0  \n",
      "200                          11696.0  \n",
      "201                          13228.0  \n",
      "\n",
      "[202 rows x 9 columns]\n"
     ]
    }
   ],
   "source": [
    "from pandas.io.parsers import read_csv\n",
    "\n",
    "df = read_csv(\"WHO_first9cols.csv\")\n",
    "print(\"Dataframe:\\n\", df)"
   ]
  },
  {
   "cell_type": "code",
   "execution_count": 3,
   "metadata": {},
   "outputs": [
    {
     "name": "stdout",
     "output_type": "stream",
     "text": [
      "Shape:\n",
      " (202, 9)\n",
      "\n",
      "\n",
      "Length:\n",
      " 202\n",
      "\n",
      "\n",
      "Column Headers:\n",
      " Index(['Country', 'CountryID', 'Continent', 'Adolescent fertility rate (%)',\n",
      "       'Adult literacy rate (%)',\n",
      "       'Gross national income per capita (PPP international $)',\n",
      "       'Net primary school enrolment ratio female (%)',\n",
      "       'Net primary school enrolment ratio male (%)',\n",
      "       'Population (in thousands) total'],\n",
      "      dtype='object')\n",
      "\n",
      "\n",
      "Data types:\n",
      " Country                                                    object\n",
      "CountryID                                                   int64\n",
      "Continent                                                   int64\n",
      "Adolescent fertility rate (%)                             float64\n",
      "Adult literacy rate (%)                                   float64\n",
      "Gross national income per capita (PPP international $)    float64\n",
      "Net primary school enrolment ratio female (%)             float64\n",
      "Net primary school enrolment ratio male (%)               float64\n",
      "Population (in thousands) total                           float64\n",
      "dtype: object\n",
      "\n",
      "\n",
      "Index:\n",
      " RangeIndex(start=0, stop=202, step=1)\n",
      "\n",
      "\n",
      "Values:\n",
      " [['Afghanistan' 1 1 ... nan nan 26088.0]\n",
      " ['Albania' 2 2 ... 93.0 94.0 3172.0]\n",
      " ['Algeria' 3 3 ... 94.0 96.0 33351.0]\n",
      " ...\n",
      " ['Yemen' 200 1 ... 65.0 85.0 21732.0]\n",
      " ['Zambia' 201 3 ... 94.0 90.0 11696.0]\n",
      " ['Zimbabwe' 202 3 ... 88.0 87.0 13228.0]]\n"
     ]
    }
   ],
   "source": [
    "print(\"Shape:\\n\", df.shape)\n",
    "print(\"\\n\")\n",
    "print(\"Length:\\n\", len(df))\n",
    "print(\"\\n\")\n",
    "print(\"Column Headers:\\n\", df.columns)\n",
    "print(\"\\n\")\n",
    "print(\"Data types:\\n\", df.dtypes)\n",
    "print(\"\\n\")\n",
    "print(\"Index:\\n\", df.index)\n",
    "print(\"\\n\")\n",
    "print(\"Values:\\n\", df.values)"
   ]
  },
  {
   "cell_type": "markdown",
   "metadata": {},
   "source": [
    "# pandas Series"
   ]
  },
  {
   "cell_type": "code",
   "execution_count": 4,
   "metadata": {},
   "outputs": [
    {
     "name": "stdout",
     "output_type": "stream",
     "text": [
      "Type df:\n",
      " <class 'pandas.core.frame.DataFrame'> \n",
      "\n",
      "Type country col:\n",
      " <class 'pandas.core.series.Series'> \n",
      "\n"
     ]
    }
   ],
   "source": [
    "country_col = df[\"Country\"]\n",
    "print(\"Type df:\\n\", type(df), \"\\n\")\n",
    "print(\"Type country col:\\n\", type(country_col), \"\\n\")"
   ]
  },
  {
   "cell_type": "code",
   "execution_count": 5,
   "metadata": {},
   "outputs": [
    {
     "name": "stdout",
     "output_type": "stream",
     "text": [
      "Series shape:\n",
      " (202,) \n",
      "\n",
      "Series index:\n",
      " RangeIndex(start=0, stop=202, step=1) \n",
      "\n",
      "Series values:\n",
      " ['Afghanistan' 'Albania' 'Algeria' 'Andorra' 'Angola'\n",
      " 'Antigua and Barbuda' 'Argentina' 'Armenia' 'Australia' 'Austria'\n",
      " 'Azerbaijan' 'Bahamas' 'Bahrain' 'Bangladesh' 'Barbados' 'Belarus'\n",
      " 'Belgium' 'Belize' 'Benin' 'Bermuda' 'Bhutan' 'Bolivia'\n",
      " 'Bosnia and Herzegovina' 'Botswana' 'Brazil' 'Brunei Darussalam'\n",
      " 'Bulgaria' 'Burkina Faso' 'Burundi' 'Cambodia' 'Cameroon' 'Canada'\n",
      " 'Cape Verde' 'Central African Republic' 'Chad' 'Chile' 'China' 'Colombia'\n",
      " 'Comoros' 'Congo, Dem. Rep.' 'Congo, Rep.' 'Cook Islands' 'Costa Rica'\n",
      " \"Cote d'Ivoire\" 'Croatia' 'Cuba' 'Cyprus' 'Czech Republic' 'Denmark'\n",
      " 'Djibouti' 'Dominica' 'Dominican Republic' 'Ecuador' 'Egypt'\n",
      " 'El Salvador' 'Equatorial Guinea' 'Eritrea' 'Estonia' 'Ethiopia' 'Fiji'\n",
      " 'Finland' 'France' 'French Polynesia' 'Gabon' 'Gambia' 'Georgia'\n",
      " 'Germany' 'Ghana' 'Greece' 'Grenada' 'Guatemala' 'Guinea' 'Guinea-Bissau'\n",
      " 'Guyana' 'Haiti' 'Honduras' 'Hong Kong, China' 'Hungary' 'Iceland'\n",
      " 'India' 'Indonesia' 'Iran (Islamic Republic of)' 'Iraq' 'Ireland'\n",
      " 'Israel' 'Italy' 'Jamaica' 'Japan' 'Jordan' 'Kazakhstan' 'Kenya'\n",
      " 'Kiribati' 'Korea, Dem. Rep.' 'Korea, Rep.' 'Kuwait' 'Kyrgyzstan'\n",
      " \"Lao People's Democratic Republic\" 'Latvia' 'Lebanon' 'Lesotho' 'Liberia'\n",
      " 'Libyan Arab Jamahiriya' 'Lithuania' 'Luxembourg' 'Macao, China'\n",
      " 'Macedonia' 'Madagascar' 'Malawi' 'Malaysia' 'Maldives' 'Mali' 'Malta'\n",
      " 'Marshall Islands' 'Mauritania' 'Mauritius' 'Mexico'\n",
      " 'Micronesia (Federated States of)' 'Moldova' 'Monaco' 'Mongolia'\n",
      " 'Montenegro' 'Morocco' 'Mozambique' 'Myanmar' 'Namibia' 'Nauru' 'Nepal'\n",
      " 'Netherlands' 'Netherlands Antilles' 'New Caledonia' 'New Zealand'\n",
      " 'Nicaragua' 'Niger' 'Nigeria' 'Niue' 'Norway' 'Oman' 'Pakistan' 'Palau'\n",
      " 'Panama' 'Papua New Guinea' 'Paraguay' 'Peru' 'Philippines' 'Poland'\n",
      " 'Portugal' 'Puerto Rico' 'Qatar' 'Romania' 'Russia' 'Rwanda'\n",
      " 'Saint Kitts and Nevis' 'Saint Lucia' 'Saint Vincent and the Grenadines'\n",
      " 'Samoa' 'San Marino' 'Sao Tome and Principe' 'Saudi Arabia' 'Senegal'\n",
      " 'Serbia' 'Seychelles' 'Sierra Leone' 'Singapore' 'Slovakia' 'Slovenia'\n",
      " 'Solomon Islands' 'Somalia' 'South Africa' 'Spain' 'Sri Lanka' 'Sudan'\n",
      " 'Suriname' 'Swaziland' 'Sweden' 'Switzerland' 'Syria' 'Taiwan'\n",
      " 'Tajikistan' 'Tanzania' 'Thailand' 'Timor-Leste' 'Togo' 'Tonga'\n",
      " 'Trinidad and Tobago' 'Tunisia' 'Turkey' 'Turkmenistan' 'Tuvalu' 'Uganda'\n",
      " 'Ukraine' 'United Arab Emirates' 'United Kingdom'\n",
      " 'United States of America' 'Uruguay' 'Uzbekistan' 'Vanuatu' 'Venezuela'\n",
      " 'Vietnam' 'West Bank and Gaza' 'Yemen' 'Zambia' 'Zimbabwe'] \n",
      "\n",
      "Series name:\n",
      " Country \n",
      "\n"
     ]
    }
   ],
   "source": [
    "print(\"Series shape:\\n\", country_col.shape, \"\\n\")\n",
    "print(\"Series index:\\n\", country_col.index, \"\\n\")\n",
    "print(\"Series values:\\n\", country_col.values, \"\\n\")\n",
    "print(\"Series name:\\n\", country_col.name, \"\\n\")"
   ]
  },
  {
   "cell_type": "code",
   "execution_count": 6,
   "metadata": {},
   "outputs": [
    {
     "name": "stdout",
     "output_type": "stream",
     "text": [
      "Last 2 countries:\n",
      " 200      Zambia\n",
      "201    Zimbabwe\n",
      "Name: Country, dtype: object \n",
      "\n",
      "Last 2 countries type:\n",
      " <class 'pandas.core.series.Series'> \n",
      "\n"
     ]
    }
   ],
   "source": [
    "print(\"Last 2 countries:\\n\", country_col[-2:], \"\\n\")\n",
    "print(\"Last 2 countries type:\\n\", type(country_col[-2:]), \"\\n\")"
   ]
  },
  {
   "cell_type": "code",
   "execution_count": 7,
   "metadata": {},
   "outputs": [
    {
     "name": "stdout",
     "output_type": "stream",
     "text": [
      "Last df column signs:\n",
      " Population (in thousands) total 0      1.0\n",
      "1      1.0\n",
      "2      1.0\n",
      "3      1.0\n",
      "4      1.0\n",
      "5      1.0\n",
      "6      1.0\n",
      "7      1.0\n",
      "8      1.0\n",
      "9      1.0\n",
      "10     1.0\n",
      "11     1.0\n",
      "12     1.0\n",
      "13     1.0\n",
      "14     1.0\n",
      "15     1.0\n",
      "16     1.0\n",
      "17     1.0\n",
      "18     1.0\n",
      "19     NaN\n",
      "20     1.0\n",
      "21     1.0\n",
      "22     1.0\n",
      "23     1.0\n",
      "24     1.0\n",
      "25     1.0\n",
      "26     1.0\n",
      "27     1.0\n",
      "28     1.0\n",
      "29     1.0\n",
      "      ... \n",
      "172    1.0\n",
      "173    1.0\n",
      "174    1.0\n",
      "175    1.0\n",
      "176    NaN\n",
      "177    1.0\n",
      "178    1.0\n",
      "179    1.0\n",
      "180    1.0\n",
      "181    1.0\n",
      "182    1.0\n",
      "183    1.0\n",
      "184    1.0\n",
      "185    1.0\n",
      "186    1.0\n",
      "187    1.0\n",
      "188    1.0\n",
      "189    1.0\n",
      "190    1.0\n",
      "191    1.0\n",
      "192    1.0\n",
      "193    1.0\n",
      "194    1.0\n",
      "195    1.0\n",
      "196    1.0\n",
      "197    1.0\n",
      "198    NaN\n",
      "199    1.0\n",
      "200    1.0\n",
      "201    1.0\n",
      "Name: Population (in thousands) total, Length: 202, dtype: float64 \n",
      "\n"
     ]
    }
   ],
   "source": [
    "last_col = df.columns[-1]\n",
    "print(\"Last df column signs:\\n\", last_col, np.sign(df[last_col]), \"\\n\")"
   ]
  },
  {
   "cell_type": "code",
   "execution_count": 8,
   "metadata": {},
   "outputs": [
    {
     "data": {
      "text/plain": [
       "nan"
      ]
     },
     "execution_count": 8,
     "metadata": {},
     "output_type": "execute_result"
    }
   ],
   "source": [
    "np.sum([0, np.nan])"
   ]
  },
  {
   "cell_type": "code",
   "execution_count": 9,
   "metadata": {},
   "outputs": [
    {
     "data": {
      "text/plain": [
       "Country                                                    object\n",
       "CountryID                                                   int64\n",
       "Continent                                                   int64\n",
       "Adolescent fertility rate (%)                             float64\n",
       "Adult literacy rate (%)                                   float64\n",
       "Gross national income per capita (PPP international $)    float64\n",
       "Net primary school enrolment ratio female (%)             float64\n",
       "Net primary school enrolment ratio male (%)               float64\n",
       "Population (in thousands) total                           float64\n",
       "dtype: object"
      ]
     },
     "execution_count": 9,
     "metadata": {},
     "output_type": "execute_result"
    }
   ],
   "source": [
    "df.dtypes"
   ]
  },
  {
   "cell_type": "code",
   "execution_count": 10,
   "metadata": {},
   "outputs": [
    {
     "name": "stdout",
     "output_type": "stream",
     "text": [
      "0.0\n"
     ]
    }
   ],
   "source": [
    "print(np.sum(df[last_col] - df[last_col].values))"
   ]
  },
  {
   "cell_type": "markdown",
   "metadata": {},
   "source": [
    "# Querying Data in pandas"
   ]
  },
  {
   "cell_type": "code",
   "execution_count": 12,
   "metadata": {},
   "outputs": [],
   "source": [
    "import quandl"
   ]
  },
  {
   "cell_type": "code",
   "execution_count": 13,
   "metadata": {},
   "outputs": [],
   "source": [
    "sunspots = quandl.get(\"SIDC/SUNSPOTS_A\")"
   ]
  },
  {
   "cell_type": "code",
   "execution_count": 14,
   "metadata": {},
   "outputs": [
    {
     "name": "stdout",
     "output_type": "stream",
     "text": [
      "Head 2:\n",
      "             Yearly Mean Total Sunspot Number  Yearly Mean Standard Deviation  \\\n",
      "Date                                                                           \n",
      "1700-12-31                               8.3                             NaN   \n",
      "1701-12-31                              18.3                             NaN   \n",
      "\n",
      "            Number of Observations  Definitive/Provisional Indicator  \n",
      "Date                                                                  \n",
      "1700-12-31                     NaN                               1.0  \n",
      "1701-12-31                     NaN                               1.0  \n"
     ]
    }
   ],
   "source": [
    "print(\"Head 2:\\n\", sunspots.head(2) )"
   ]
  },
  {
   "cell_type": "code",
   "execution_count": 15,
   "metadata": {},
   "outputs": [
    {
     "name": "stdout",
     "output_type": "stream",
     "text": [
      "Tail 2:\n",
      "             Yearly Mean Total Sunspot Number  Yearly Mean Standard Deviation  \\\n",
      "Date                                                                           \n",
      "2016-12-31                              39.8                             3.9   \n",
      "2017-12-31                              21.7                             2.6   \n",
      "\n",
      "            Number of Observations  Definitive/Provisional Indicator  \n",
      "Date                                                                  \n",
      "2016-12-31                  9940.0                               1.0  \n",
      "2017-12-31                 11020.0                               0.0  \n"
     ]
    }
   ],
   "source": [
    "print(\"Tail 2:\\n\", sunspots.tail(2))"
   ]
  },
  {
   "cell_type": "code",
   "execution_count": 16,
   "metadata": {},
   "outputs": [
    {
     "name": "stdout",
     "output_type": "stream",
     "text": [
      "Last value:\n",
      " Yearly Mean Total Sunspot Number       21.7\n",
      "Yearly Mean Standard Deviation          2.6\n",
      "Number of Observations              11020.0\n",
      "Definitive/Provisional Indicator        0.0\n",
      "Name: 2017-12-31 00:00:00, dtype: float64\n"
     ]
    }
   ],
   "source": [
    "last_date = sunspots.index[-1]\n",
    "print(\"Last value:\\n\",sunspots.loc[last_date])"
   ]
  },
  {
   "cell_type": "code",
   "execution_count": 17,
   "metadata": {},
   "outputs": [
    {
     "name": "stdout",
     "output_type": "stream",
     "text": [
      "Values slice by date:\n",
      "             Yearly Mean Total Sunspot Number  Yearly Mean Standard Deviation  \\\n",
      "Date                                                                           \n",
      "2002-12-31                             163.6                             9.8   \n",
      "2003-12-31                              99.3                             7.1   \n",
      "2004-12-31                              65.3                             5.9   \n",
      "2005-12-31                              45.8                             4.7   \n",
      "2006-12-31                              24.7                             3.5   \n",
      "2007-12-31                              12.6                             2.7   \n",
      "2008-12-31                               4.2                             2.5   \n",
      "2009-12-31                               4.8                             2.5   \n",
      "2010-12-31                              24.9                             3.4   \n",
      "2011-12-31                              80.8                             6.7   \n",
      "2012-12-31                              84.5                             6.7   \n",
      "2013-12-31                              94.0                             6.9   \n",
      "\n",
      "            Number of Observations  Definitive/Provisional Indicator  \n",
      "Date                                                                  \n",
      "2002-12-31                  6588.0                               1.0  \n",
      "2003-12-31                  7087.0                               1.0  \n",
      "2004-12-31                  6882.0                               1.0  \n",
      "2005-12-31                  7084.0                               1.0  \n",
      "2006-12-31                  6370.0                               1.0  \n",
      "2007-12-31                  6841.0                               1.0  \n",
      "2008-12-31                  6644.0                               1.0  \n",
      "2009-12-31                  6465.0                               1.0  \n",
      "2010-12-31                  6328.0                               1.0  \n",
      "2011-12-31                  6077.0                               1.0  \n",
      "2012-12-31                  5753.0                               1.0  \n",
      "2013-12-31                  5347.0                               1.0  \n"
     ]
    }
   ],
   "source": [
    "print(\"Values slice by date:\\n\", sunspots[\"20020101\": \"20131231\"])"
   ]
  },
  {
   "cell_type": "code",
   "execution_count": 18,
   "metadata": {},
   "outputs": [
    {
     "name": "stdout",
     "output_type": "stream",
     "text": [
      "Slice from a list of indices:\n",
      "             Yearly Mean Total Sunspot Number  Yearly Mean Standard Deviation  \\\n",
      "Date                                                                           \n",
      "1702-12-31                              26.7                             NaN   \n",
      "1704-12-31                              60.0                             NaN   \n",
      "2014-12-31                             113.3                             8.0   \n",
      "2016-12-31                              39.8                             3.9   \n",
      "\n",
      "            Number of Observations  Definitive/Provisional Indicator  \n",
      "Date                                                                  \n",
      "1702-12-31                     NaN                               1.0  \n",
      "1704-12-31                     NaN                               1.0  \n",
      "2014-12-31                  5273.0                               1.0  \n",
      "2016-12-31                  9940.0                               1.0  \n"
     ]
    }
   ],
   "source": [
    "print(\"Slice from a list of indices:\\n\", sunspots.iloc[[2, 4, -4, -2]])"
   ]
  },
  {
   "cell_type": "code",
   "execution_count": 19,
   "metadata": {},
   "outputs": [
    {
     "name": "stdout",
     "output_type": "stream",
     "text": [
      "Scalar with Iloc: 8.3\n",
      "Scalar with iat 18.3\n"
     ]
    }
   ],
   "source": [
    "print(\"Scalar with Iloc:\", sunspots.iloc[0, 0])\n",
    "print(\"Scalar with iat\", sunspots.iat[1, 0])"
   ]
  },
  {
   "cell_type": "code",
   "execution_count": 20,
   "metadata": {},
   "outputs": [
    {
     "name": "stdout",
     "output_type": "stream",
     "text": [
      "Boolean selection:\n",
      "             Yearly Mean Total Sunspot Number  Yearly Mean Standard Deviation  \\\n",
      "Date                                                                           \n",
      "1700-12-31                               NaN                             NaN   \n",
      "1701-12-31                               NaN                             NaN   \n",
      "1702-12-31                               NaN                             NaN   \n",
      "1703-12-31                               NaN                             NaN   \n",
      "1704-12-31                               NaN                             NaN   \n",
      "1705-12-31                              96.7                             NaN   \n",
      "1706-12-31                               NaN                             NaN   \n",
      "1707-12-31                               NaN                             NaN   \n",
      "1708-12-31                               NaN                             NaN   \n",
      "1709-12-31                               NaN                             NaN   \n",
      "1710-12-31                               NaN                             NaN   \n",
      "1711-12-31                               NaN                             NaN   \n",
      "1712-12-31                               NaN                             NaN   \n",
      "1713-12-31                               NaN                             NaN   \n",
      "1714-12-31                               NaN                             NaN   \n",
      "1715-12-31                               NaN                             NaN   \n",
      "1716-12-31                               NaN                             NaN   \n",
      "1717-12-31                             105.0                             NaN   \n",
      "1718-12-31                             100.0                             NaN   \n",
      "1719-12-31                               NaN                             NaN   \n",
      "1720-12-31                               NaN                             NaN   \n",
      "1721-12-31                               NaN                             NaN   \n",
      "1722-12-31                               NaN                             NaN   \n",
      "1723-12-31                               NaN                             NaN   \n",
      "1724-12-31                               NaN                             NaN   \n",
      "1725-12-31                               NaN                             NaN   \n",
      "1726-12-31                             130.0                             NaN   \n",
      "1727-12-31                             203.3                             NaN   \n",
      "1728-12-31                             171.7                             NaN   \n",
      "1729-12-31                             121.7                             NaN   \n",
      "...                                      ...                             ...   \n",
      "1988-12-31                             123.0                             8.4   \n",
      "1989-12-31                             211.1                            12.8   \n",
      "1990-12-31                             191.8                            11.2   \n",
      "1991-12-31                             203.3                            12.7   \n",
      "1992-12-31                             133.0                             8.9   \n",
      "1993-12-31                               NaN                             NaN   \n",
      "1994-12-31                               NaN                             NaN   \n",
      "1995-12-31                               NaN                             NaN   \n",
      "1996-12-31                               NaN                             NaN   \n",
      "1997-12-31                               NaN                             NaN   \n",
      "1998-12-31                              88.3                             NaN   \n",
      "1999-12-31                             136.3                             9.3   \n",
      "2000-12-31                             173.9                            10.1   \n",
      "2001-12-31                             170.4                            10.5   \n",
      "2002-12-31                             163.6                             9.8   \n",
      "2003-12-31                              99.3                             NaN   \n",
      "2004-12-31                               NaN                             NaN   \n",
      "2005-12-31                               NaN                             NaN   \n",
      "2006-12-31                               NaN                             NaN   \n",
      "2007-12-31                               NaN                             NaN   \n",
      "2008-12-31                               NaN                             NaN   \n",
      "2009-12-31                               NaN                             NaN   \n",
      "2010-12-31                               NaN                             NaN   \n",
      "2011-12-31                              80.8                             NaN   \n",
      "2012-12-31                              84.5                             NaN   \n",
      "2013-12-31                              94.0                             NaN   \n",
      "2014-12-31                             113.3                             8.0   \n",
      "2015-12-31                               NaN                             NaN   \n",
      "2016-12-31                               NaN                             NaN   \n",
      "2017-12-31                               NaN                             NaN   \n",
      "\n",
      "            Number of Observations  Definitive/Provisional Indicator  \n",
      "Date                                                                  \n",
      "1700-12-31                     NaN                               1.0  \n",
      "1701-12-31                     NaN                               1.0  \n",
      "1702-12-31                     NaN                               1.0  \n",
      "1703-12-31                     NaN                               1.0  \n",
      "1704-12-31                     NaN                               1.0  \n",
      "1705-12-31                     NaN                               1.0  \n",
      "1706-12-31                     NaN                               1.0  \n",
      "1707-12-31                     NaN                               1.0  \n",
      "1708-12-31                     NaN                               1.0  \n",
      "1709-12-31                     NaN                               1.0  \n",
      "1710-12-31                     NaN                               1.0  \n",
      "1711-12-31                     NaN                               1.0  \n",
      "1712-12-31                     NaN                               1.0  \n",
      "1713-12-31                     NaN                               1.0  \n",
      "1714-12-31                     NaN                               1.0  \n",
      "1715-12-31                     NaN                               1.0  \n",
      "1716-12-31                     NaN                               1.0  \n",
      "1717-12-31                     NaN                               1.0  \n",
      "1718-12-31                     NaN                               1.0  \n",
      "1719-12-31                     NaN                               1.0  \n",
      "1720-12-31                     NaN                               1.0  \n",
      "1721-12-31                     NaN                               1.0  \n",
      "1722-12-31                     NaN                               1.0  \n",
      "1723-12-31                     NaN                               1.0  \n",
      "1724-12-31                     NaN                               1.0  \n",
      "1725-12-31                     NaN                               1.0  \n",
      "1726-12-31                     NaN                               1.0  \n",
      "1727-12-31                     NaN                               1.0  \n",
      "1728-12-31                     NaN                               1.0  \n",
      "1729-12-31                     NaN                               1.0  \n",
      "...                            ...                               ...  \n",
      "1988-12-31                  6556.0                               1.0  \n",
      "1989-12-31                  6932.0                               1.0  \n",
      "1990-12-31                  7108.0                               1.0  \n",
      "1991-12-31                  6932.0                               1.0  \n",
      "1992-12-31                  7845.0                               1.0  \n",
      "1993-12-31                  8010.0                               1.0  \n",
      "1994-12-31                  8524.0                               1.0  \n",
      "1995-12-31                  8429.0                               1.0  \n",
      "1996-12-31                  7614.0                               1.0  \n",
      "1997-12-31                  7294.0                               1.0  \n",
      "1998-12-31                  6353.0                               1.0  \n",
      "1999-12-31                  6413.0                               1.0  \n",
      "2000-12-31                  5953.0                               1.0  \n",
      "2001-12-31                  6558.0                               1.0  \n",
      "2002-12-31                  6588.0                               1.0  \n",
      "2003-12-31                  7087.0                               1.0  \n",
      "2004-12-31                  6882.0                               1.0  \n",
      "2005-12-31                  7084.0                               1.0  \n",
      "2006-12-31                  6370.0                               1.0  \n",
      "2007-12-31                  6841.0                               1.0  \n",
      "2008-12-31                  6644.0                               1.0  \n",
      "2009-12-31                  6465.0                               1.0  \n",
      "2010-12-31                  6328.0                               1.0  \n",
      "2011-12-31                  6077.0                               1.0  \n",
      "2012-12-31                  5753.0                               1.0  \n",
      "2013-12-31                  5347.0                               1.0  \n",
      "2014-12-31                  5273.0                               1.0  \n",
      "2015-12-31                  8903.0                               1.0  \n",
      "2016-12-31                  9940.0                               1.0  \n",
      "2017-12-31                 11020.0                               NaN  \n",
      "\n",
      "[318 rows x 4 columns]\n"
     ]
    }
   ],
   "source": [
    "print(\"Boolean selection:\\n\", sunspots[sunspots > sunspots.mean()])"
   ]
  },
  {
   "cell_type": "code",
   "execution_count": 21,
   "metadata": {},
   "outputs": [
    {
     "name": "stdout",
     "output_type": "stream",
     "text": [
      "Boolean selection with column label:\n",
      "             Yearly Mean Total Sunspot Number  Yearly Mean Standard Deviation  \\\n",
      "Date                                                                           \n",
      "1981-12-31                             198.9                            13.1   \n",
      "1982-12-31                             162.4                            12.1   \n",
      "1983-12-31                              91.0                             7.6   \n",
      "1984-12-31                              60.5                             5.9   \n",
      "1985-12-31                              20.6                             3.7   \n",
      "1986-12-31                              14.8                             3.5   \n",
      "1987-12-31                              33.9                             3.7   \n",
      "1988-12-31                             123.0                             8.4   \n",
      "1989-12-31                             211.1                            12.8   \n",
      "1990-12-31                             191.8                            11.2   \n",
      "1991-12-31                             203.3                            12.7   \n",
      "1992-12-31                             133.0                             8.9   \n",
      "1993-12-31                              76.1                             5.8   \n",
      "1994-12-31                              44.9                             4.4   \n",
      "1995-12-31                              25.1                             3.7   \n",
      "1996-12-31                              11.6                             3.1   \n",
      "1997-12-31                              28.9                             3.6   \n",
      "1998-12-31                              88.3                             6.6   \n",
      "1999-12-31                             136.3                             9.3   \n",
      "2000-12-31                             173.9                            10.1   \n",
      "2001-12-31                             170.4                            10.5   \n",
      "2002-12-31                             163.6                             9.8   \n",
      "2003-12-31                              99.3                             7.1   \n",
      "2004-12-31                              65.3                             5.9   \n",
      "2005-12-31                              45.8                             4.7   \n",
      "2006-12-31                              24.7                             3.5   \n",
      "2007-12-31                              12.6                             2.7   \n",
      "2008-12-31                               4.2                             2.5   \n",
      "2009-12-31                               4.8                             2.5   \n",
      "2010-12-31                              24.9                             3.4   \n",
      "2011-12-31                              80.8                             6.7   \n",
      "2012-12-31                              84.5                             6.7   \n",
      "2013-12-31                              94.0                             6.9   \n",
      "2014-12-31                             113.3                             8.0   \n",
      "2015-12-31                              69.8                             6.4   \n",
      "2016-12-31                              39.8                             3.9   \n",
      "2017-12-31                              21.7                             2.6   \n",
      "\n",
      "            Number of Observations  Definitive/Provisional Indicator  \n",
      "Date                                                                  \n",
      "1981-12-31                  3049.0                               1.0  \n",
      "1982-12-31                  3436.0                               1.0  \n",
      "1983-12-31                  4216.0                               1.0  \n",
      "1984-12-31                  5103.0                               1.0  \n",
      "1985-12-31                  5543.0                               1.0  \n",
      "1986-12-31                  5934.0                               1.0  \n",
      "1987-12-31                  6396.0                               1.0  \n",
      "1988-12-31                  6556.0                               1.0  \n",
      "1989-12-31                  6932.0                               1.0  \n",
      "1990-12-31                  7108.0                               1.0  \n",
      "1991-12-31                  6932.0                               1.0  \n",
      "1992-12-31                  7845.0                               1.0  \n",
      "1993-12-31                  8010.0                               1.0  \n",
      "1994-12-31                  8524.0                               1.0  \n",
      "1995-12-31                  8429.0                               1.0  \n",
      "1996-12-31                  7614.0                               1.0  \n",
      "1997-12-31                  7294.0                               1.0  \n",
      "1998-12-31                  6353.0                               1.0  \n",
      "1999-12-31                  6413.0                               1.0  \n",
      "2000-12-31                  5953.0                               1.0  \n",
      "2001-12-31                  6558.0                               1.0  \n",
      "2002-12-31                  6588.0                               1.0  \n",
      "2003-12-31                  7087.0                               1.0  \n",
      "2004-12-31                  6882.0                               1.0  \n",
      "2005-12-31                  7084.0                               1.0  \n",
      "2006-12-31                  6370.0                               1.0  \n",
      "2007-12-31                  6841.0                               1.0  \n",
      "2008-12-31                  6644.0                               1.0  \n",
      "2009-12-31                  6465.0                               1.0  \n",
      "2010-12-31                  6328.0                               1.0  \n",
      "2011-12-31                  6077.0                               1.0  \n",
      "2012-12-31                  5753.0                               1.0  \n",
      "2013-12-31                  5347.0                               1.0  \n",
      "2014-12-31                  5273.0                               1.0  \n",
      "2015-12-31                  8903.0                               1.0  \n",
      "2016-12-31                  9940.0                               1.0  \n",
      "2017-12-31                 11020.0                               0.0  \n"
     ]
    }
   ],
   "source": [
    "print(\"Boolean selection with column label:\\n\", sunspots[sunspots['Number of Observations'] > sunspots['Number of Observations'].mean()])"
   ]
  },
  {
   "cell_type": "markdown",
   "metadata": {},
   "source": [
    "# Statistics with pandas DataFrame"
   ]
  },
  {
   "cell_type": "code",
   "execution_count": 22,
   "metadata": {},
   "outputs": [
    {
     "name": "stdout",
     "output_type": "stream",
     "text": [
      "Describe        Yearly Mean Total Sunspot Number  Yearly Mean Standard Deviation  \\\n",
      "count                        318.000000                      200.000000   \n",
      "mean                          79.196855                        7.982500   \n",
      "std                           61.985539                        3.818567   \n",
      "min                            0.000000                        1.700000   \n",
      "25%                           24.950000                        4.700000   \n",
      "50%                           66.250000                        7.650000   \n",
      "75%                          116.025000                       10.425000   \n",
      "max                          269.300000                       19.100000   \n",
      "\n",
      "       Number of Observations  Definitive/Provisional Indicator  \n",
      "count              200.000000                        318.000000  \n",
      "mean              1515.440000                          0.996855  \n",
      "std               2548.854285                          0.056077  \n",
      "min                150.000000                          0.000000  \n",
      "25%                365.000000                          1.000000  \n",
      "50%                365.000000                          1.000000  \n",
      "75%                366.000000                          1.000000  \n",
      "max              11020.000000                          1.000000   \n",
      "\n",
      "Non NaN observations Yearly Mean Total Sunspot Number    318\n",
      "Yearly Mean Standard Deviation      200\n",
      "Number of Observations              200\n",
      "Definitive/Provisional Indicator    318\n",
      "dtype: int64 \n",
      "\n",
      "MAD Yearly Mean Total Sunspot Number      50.922167\n",
      "Yearly Mean Standard Deviation         3.138625\n",
      "Number of Observations              1907.287200\n",
      "Definitive/Provisional Indicator       0.006270\n",
      "dtype: float64 \n",
      "\n",
      "Median Yearly Mean Total Sunspot Number     66.25\n",
      "Yearly Mean Standard Deviation        7.65\n",
      "Number of Observations              365.00\n",
      "Definitive/Provisional Indicator      1.00\n",
      "dtype: float64 \n",
      "\n",
      "Min Yearly Mean Total Sunspot Number      0.0\n",
      "Yearly Mean Standard Deviation        1.7\n",
      "Number of Observations              150.0\n",
      "Definitive/Provisional Indicator      0.0\n",
      "dtype: float64 \n",
      "\n",
      "Max Yearly Mean Total Sunspot Number      269.3\n",
      "Yearly Mean Standard Deviation         19.1\n",
      "Number of Observations              11020.0\n",
      "Definitive/Provisional Indicator        1.0\n",
      "dtype: float64 \n",
      "\n",
      "Mode    Yearly Mean Total Sunspot Number  Yearly Mean Standard Deviation  \\\n",
      "0                              18.3                             9.2   \n",
      "\n",
      "   Number of Observations  Definitive/Provisional Indicator  \n",
      "0                   365.0                               1.0   \n",
      "\n",
      "Standard Deviation Yearly Mean Total Sunspot Number      61.985539\n",
      "Yearly Mean Standard Deviation         3.818567\n",
      "Number of Observations              2548.854285\n",
      "Definitive/Provisional Indicator       0.056077\n",
      "dtype: float64 \n",
      "\n",
      "Variance Yearly Mean Total Sunspot Number    3.842207e+03\n",
      "Yearly Mean Standard Deviation      1.458145e+01\n",
      "Number of Observations              6.496658e+06\n",
      "Definitive/Provisional Indicator    3.144654e-03\n",
      "dtype: float64 \n",
      "\n",
      "Skewness Yearly Mean Total Sunspot Number     0.808657\n",
      "Yearly Mean Standard Deviation       0.561499\n",
      "Number of Observations               1.892803\n",
      "Definitive/Provisional Indicator   -17.832555\n",
      "dtype: float64 \n",
      "\n",
      "Kurtosis Yearly Mean Total Sunspot Number     -0.129808\n",
      "Yearly Mean Standard Deviation       -0.249446\n",
      "Number of Observations                2.082363\n",
      "Definitive/Provisional Indicator    318.000000\n",
      "dtype: float64 \n",
      "\n"
     ]
    }
   ],
   "source": [
    "import quandl\n",
    "\n",
    "# Data from http://www.quandl.com/SIDC/SUNSPOTS_A-Sunspot-Numbers-Annual\n",
    "# PyPi url https://pypi.python.org/pypi/Quandl\n",
    "sunspots = quandl.get(\"SIDC/SUNSPOTS_A\")\n",
    "print(\"Describe\", sunspots.describe(),\"\\n\")\n",
    "print(\"Non NaN observations\", sunspots.count(),\"\\n\")\n",
    "print(\"MAD\", sunspots.mad(),\"\\n\")\n",
    "print(\"Median\", sunspots.median(),\"\\n\")\n",
    "print(\"Min\", sunspots.min(),\"\\n\")\n",
    "print(\"Max\", sunspots.max(),\"\\n\")\n",
    "print(\"Mode\", sunspots.mode(),\"\\n\")\n",
    "print(\"Standard Deviation\", sunspots.std(),\"\\n\")\n",
    "print(\"Variance\", sunspots.var(),\"\\n\")\n",
    "print(\"Skewness\", sunspots.skew(),\"\\n\")\n",
    "print(\"Kurtosis\", sunspots.kurt(),\"\\n\")"
   ]
  },
  {
   "cell_type": "markdown",
   "metadata": {},
   "source": [
    "# Data Aggregation"
   ]
  },
  {
   "cell_type": "code",
   "execution_count": 23,
   "metadata": {},
   "outputs": [
    {
     "name": "stdout",
     "output_type": "stream",
     "text": [
      "        Food  Number     Price Weather\n",
      "0       soup       8  3.745401    cold\n",
      "1       soup       8  9.507143     hot\n",
      "2   icecream       8  7.319939    cold\n",
      "3  chocolate       8  5.986585     hot\n",
      "4   icecream       8  1.560186    cold\n",
      "5   icecream       8  1.559945     hot\n",
      "6       soup       8  0.580836    cold\n"
     ]
    }
   ],
   "source": [
    "import pandas as pd\n",
    "from numpy.random import seed\n",
    "from numpy.random import rand\n",
    "from numpy.random import randint\n",
    "import numpy as np\n",
    "\n",
    "seed(42)\n",
    "\n",
    "df = pd.DataFrame({'Weather' : ['cold', 'hot', 'cold', 'hot',\n",
    "   'cold', 'hot', 'cold'],\n",
    "   'Food' : ['soup', 'soup', 'icecream', 'chocolate',\n",
    "   'icecream', 'icecream', 'soup'],\n",
    "   'Price' : 10 * rand(7), 'Number' : randint(1, 9)})\n",
    "\n",
    "print(df)"
   ]
  },
  {
   "cell_type": "code",
   "execution_count": 24,
   "metadata": {},
   "outputs": [
    {
     "name": "stdout",
     "output_type": "stream",
     "text": [
      "Group 1 cold\n",
      "       Food  Number     Price Weather\n",
      "0      soup       8  3.745401    cold\n",
      "2  icecream       8  7.319939    cold\n",
      "4  icecream       8  1.560186    cold\n",
      "6      soup       8  0.580836    cold\n",
      "Group 2 hot\n",
      "        Food  Number     Price Weather\n",
      "1       soup       8  9.507143     hot\n",
      "3  chocolate       8  5.986585     hot\n",
      "5   icecream       8  1.559945     hot\n"
     ]
    }
   ],
   "source": [
    "weather_group = df.groupby('Weather')\n",
    "\n",
    "i = 0\n",
    "\n",
    "for name, group in weather_group:\n",
    "   i = i + 1\n",
    "   print(\"Group\", i, name)\n",
    "   print(group)"
   ]
  },
  {
   "cell_type": "code",
   "execution_count": 25,
   "metadata": {},
   "outputs": [
    {
     "name": "stdout",
     "output_type": "stream",
     "text": [
      "Weather group first\n",
      "          Food  Number     Price\n",
      "Weather                        \n",
      "cold     soup       8  3.745401\n",
      "hot      soup       8  9.507143\n",
      "Weather group last\n",
      "              Food  Number     Price\n",
      "Weather                            \n",
      "cold         soup       8  0.580836\n",
      "hot      icecream       8  1.559945\n",
      "Weather group mean\n",
      "          Number     Price\n",
      "Weather                  \n",
      "cold          8  3.301591\n",
      "hot           8  5.684558\n"
     ]
    }
   ],
   "source": [
    "print(\"Weather group first\\n\", weather_group.first())\n",
    "print(\"Weather group last\\n\", weather_group.last())\n",
    "print(\"Weather group mean\\n\", weather_group.mean())"
   ]
  },
  {
   "cell_type": "code",
   "execution_count": 26,
   "metadata": {},
   "outputs": [
    {
     "name": "stdout",
     "output_type": "stream",
     "text": [
      "WF Groups {('cold', 'icecream'): Int64Index([2, 4], dtype='int64'), ('cold', 'soup'): Int64Index([0, 6], dtype='int64'), ('hot', 'chocolate'): Int64Index([3], dtype='int64'), ('hot', 'icecream'): Int64Index([5], dtype='int64'), ('hot', 'soup'): Int64Index([1], dtype='int64')}\n"
     ]
    }
   ],
   "source": [
    "wf_group = df.groupby(['Weather', 'Food'])\n",
    "print(\"WF Groups\", wf_group.groups)"
   ]
  },
  {
   "cell_type": "code",
   "execution_count": 27,
   "metadata": {},
   "outputs": [
    {
     "name": "stdout",
     "output_type": "stream",
     "text": [
      "WF Aggregated\n",
      "                   Number            Price          \n",
      "                    mean median      mean    median\n",
      "Weather Food                                       \n",
      "cold    icecream       8      8  4.440063  4.440063\n",
      "        soup           8      8  2.163119  2.163119\n",
      "hot     chocolate      8      8  5.986585  5.986585\n",
      "        icecream       8      8  1.559945  1.559945\n",
      "        soup           8      8  9.507143  9.507143\n"
     ]
    }
   ],
   "source": [
    "print(\"WF Aggregated\\n\", wf_group.agg([np.mean, np.median]))"
   ]
  },
  {
   "cell_type": "markdown",
   "metadata": {},
   "source": [
    "# Concatenating and appending DataFrames"
   ]
  },
  {
   "cell_type": "code",
   "execution_count": 28,
   "metadata": {},
   "outputs": [
    {
     "name": "stdout",
     "output_type": "stream",
     "text": [
      "df :3\n",
      "        Food  Number     Price Weather\n",
      "0      soup       8  3.745401    cold\n",
      "1      soup       8  9.507143     hot\n",
      "2  icecream       8  7.319939    cold\n"
     ]
    }
   ],
   "source": [
    "print(\"df :3\\n\", df[:3])"
   ]
  },
  {
   "cell_type": "code",
   "execution_count": 29,
   "metadata": {},
   "outputs": [
    {
     "name": "stdout",
     "output_type": "stream",
     "text": [
      "Concat Back together\n",
      "         Food  Number     Price Weather\n",
      "0       soup       8  3.745401    cold\n",
      "1       soup       8  9.507143     hot\n",
      "2   icecream       8  7.319939    cold\n",
      "3  chocolate       8  5.986585     hot\n",
      "4   icecream       8  1.560186    cold\n",
      "5   icecream       8  1.559945     hot\n",
      "6       soup       8  0.580836    cold\n"
     ]
    }
   ],
   "source": [
    "print(\"Concat Back together\\n\", pd.concat([df[:3], df[3:]]))"
   ]
  },
  {
   "cell_type": "code",
   "execution_count": 30,
   "metadata": {},
   "outputs": [
    {
     "name": "stdout",
     "output_type": "stream",
     "text": [
      "Appending rows\n",
      "        Food  Number     Price Weather\n",
      "0      soup       8  3.745401    cold\n",
      "1      soup       8  9.507143     hot\n",
      "2  icecream       8  7.319939    cold\n",
      "5  icecream       8  1.559945     hot\n",
      "6      soup       8  0.580836    cold\n"
     ]
    }
   ],
   "source": [
    "print(\"Appending rows\\n\", df[:3].append(df[5:]))"
   ]
  },
  {
   "cell_type": "markdown",
   "metadata": {},
   "source": [
    "# joining DataFrames"
   ]
  },
  {
   "cell_type": "code",
   "execution_count": 32,
   "metadata": {},
   "outputs": [
    {
     "name": "stdout",
     "output_type": "stream",
     "text": [
      "Dests\n",
      "    EmpNr       Dest\n",
      "0      5  The Hague\n",
      "1      3  Amsterdam\n",
      "2      9  Rotterdam\n",
      "Tips\n",
      "    EmpNr  Amount\n",
      "0      5    10.0\n",
      "1      9     5.0\n",
      "2      7     2.5\n",
      "Merge() on key\n",
      "    EmpNr       Dest  Amount\n",
      "0      5  The Hague    10.0\n",
      "1      9  Rotterdam     5.0\n",
      "Dests join() tips\n",
      "    EmpNrDest       Dest  EmpNrTips  Amount\n",
      "0          5  The Hague          5    10.0\n",
      "1          3  Amsterdam          9     5.0\n",
      "2          9  Rotterdam          7     2.5\n",
      "Inner join with merge()\n",
      "    EmpNr       Dest  Amount\n",
      "0      5  The Hague    10.0\n",
      "1      9  Rotterdam     5.0\n",
      "Outer join\n",
      "    EmpNr       Dest  Amount\n",
      "0      5  The Hague    10.0\n",
      "1      3  Amsterdam     NaN\n",
      "2      9  Rotterdam     5.0\n",
      "3      7        NaN     2.5\n"
     ]
    }
   ],
   "source": [
    "dests = pd.read_csv('dest.csv')\n",
    "print(\"Dests\\n\", dests)\n",
    "\n",
    "tips = pd.read_csv('tips.csv')\n",
    "print(\"Tips\\n\", tips)\n",
    "\n",
    "print(\"Merge() on key\\n\", pd.merge(dests, tips, on='EmpNr'))\n",
    "print(\"Dests join() tips\\n\", dests.join(tips, lsuffix='Dest', rsuffix='Tips'))\n",
    "\n",
    "print(\"Inner join with merge()\\n\", pd.merge(dests, tips, how='inner'))\n",
    "print(\"Outer join\\n\", pd.merge(dests, tips, how='outer'))"
   ]
  },
  {
   "cell_type": "markdown",
   "metadata": {},
   "source": [
    "# Handlng missing Values"
   ]
  },
  {
   "cell_type": "code",
   "execution_count": 34,
   "metadata": {},
   "outputs": [
    {
     "name": "stdout",
     "output_type": "stream",
     "text": [
      "New df\n",
      "        Country  Net primary school enrolment ratio male (%)\n",
      "0  Afghanistan                                          NaN\n",
      "1      Albania                                         94.0\n",
      "Null Values\n",
      "    Country  Net primary school enrolment ratio male (%)\n",
      "0    False                                         True\n",
      "1    False                                        False\n",
      "Total Null Values\n",
      " Country                                        0\n",
      "Net primary school enrolment ratio male (%)    1\n",
      "dtype: int64\n",
      "Not Null Values\n",
      "    Country  Net primary school enrolment ratio male (%)\n",
      "0     True                                        False\n",
      "1     True                                         True\n",
      "Last Column Doubled\n",
      " 0      NaN\n",
      "1    188.0\n",
      "Name: Net primary school enrolment ratio male (%), dtype: float64\n",
      "Last Column plus NaN\n",
      " 0   NaN\n",
      "1   NaN\n",
      "Name: Net primary school enrolment ratio male (%), dtype: float64\n",
      "Zero filled\n",
      "        Country  Net primary school enrolment ratio male (%)\n",
      "0  Afghanistan                                          0.0\n",
      "1      Albania                                         94.0\n"
     ]
    }
   ],
   "source": [
    "df = pd.read_csv('WHO_first9cols.csv')\n",
    "# Select first 3 rows of country and Net primary school enrolment ratio male (%)\n",
    "df = df[['Country', df.columns[-2]]][:2]\n",
    "print(\"New df\\n\", df)\n",
    "print(\"Null Values\\n\", pd.isnull(df))\n",
    "print(\"Total Null Values\\n\", pd.isnull(df).sum())\n",
    "print(\"Not Null Values\\n\", df.notnull())\n",
    "print(\"Last Column Doubled\\n\", 2 * df[df.columns[-1]])\n",
    "print(\"Last Column plus NaN\\n\", df[df.columns[-1]] + np.nan)\n",
    "print(\"Zero filled\\n\", df.fillna(0))"
   ]
  },
  {
   "cell_type": "markdown",
   "metadata": {},
   "source": [
    "# dealing with dates"
   ]
  },
  {
   "cell_type": "code",
   "execution_count": 35,
   "metadata": {},
   "outputs": [
    {
     "name": "stdout",
     "output_type": "stream",
     "text": [
      "Date range DatetimeIndex(['1900-01-01', '1900-01-02', '1900-01-03', '1900-01-04',\n",
      "               '1900-01-05', '1900-01-06', '1900-01-07', '1900-01-08',\n",
      "               '1900-01-09', '1900-01-10', '1900-01-11', '1900-01-12',\n",
      "               '1900-01-13', '1900-01-14', '1900-01-15', '1900-01-16',\n",
      "               '1900-01-17', '1900-01-18', '1900-01-19', '1900-01-20',\n",
      "               '1900-01-21', '1900-01-22', '1900-01-23', '1900-01-24',\n",
      "               '1900-01-25', '1900-01-26', '1900-01-27', '1900-01-28',\n",
      "               '1900-01-29', '1900-01-30', '1900-01-31', '1900-02-01',\n",
      "               '1900-02-02', '1900-02-03', '1900-02-04', '1900-02-05',\n",
      "               '1900-02-06', '1900-02-07', '1900-02-08', '1900-02-09',\n",
      "               '1900-02-10', '1900-02-11'],\n",
      "              dtype='datetime64[ns]', freq='D')\n"
     ]
    }
   ],
   "source": [
    "print(\"Date range\", pd.date_range('1/1/1900', periods=42, freq='D'))"
   ]
  },
  {
   "cell_type": "code",
   "execution_count": 36,
   "metadata": {},
   "outputs": [
    {
     "name": "stdout",
     "output_type": "stream",
     "text": [
      "Error encountered <class 'pandas._libs.tslib.OutOfBoundsDatetime'> Out of bounds nanosecond timestamp: 1677-01-01 00:00:00\n"
     ]
    }
   ],
   "source": [
    "import sys\n",
    "try:\n",
    "   print(\"Date range\", pd.date_range('1/1/1677', periods=4, freq='D'))\n",
    "except:\n",
    "   etype, value, _ = sys.exc_info()\n",
    "   print(\"Error encountered\", etype, value)"
   ]
  },
  {
   "cell_type": "code",
   "execution_count": 37,
   "metadata": {},
   "outputs": [
    {
     "name": "stdout",
     "output_type": "stream",
     "text": [
      "Start valid range 1969-12-31 23:59:51.410065\n",
      "End valid range 1970-01-01 00:00:08.589935\n"
     ]
    }
   ],
   "source": [
    "offset = pd.DateOffset(seconds=2 ** 33/10 ** 9)\n",
    "mid = pd.to_datetime('1/1/1970')\n",
    "print(\"Start valid range\", mid - offset)\n",
    "print(\"End valid range\", mid + offset)"
   ]
  },
  {
   "cell_type": "code",
   "execution_count": 38,
   "metadata": {},
   "outputs": [
    {
     "name": "stdout",
     "output_type": "stream",
     "text": [
      "With format DatetimeIndex(['1902-11-12', '1903-12-30'], dtype='datetime64[ns]', freq=None)\n"
     ]
    }
   ],
   "source": [
    "print(\"With format\", pd.to_datetime(['19021112', '19031230'], format='%Y%m%d'))"
   ]
  },
  {
   "cell_type": "code",
   "execution_count": 39,
   "metadata": {},
   "outputs": [
    {
     "ename": "ValueError",
     "evalue": "Unknown string format",
     "output_type": "error",
     "traceback": [
      "\u001b[0;31m---------------------------------------------------------------------------\u001b[0m",
      "\u001b[0;31mTypeError\u001b[0m                                 Traceback (most recent call last)",
      "\u001b[0;32m~/anaconda3/lib/python3.6/site-packages/pandas/core/tools/datetimes.py\u001b[0m in \u001b[0;36m_convert_listlike\u001b[0;34m(arg, box, format, name, tz)\u001b[0m\n\u001b[1;32m    302\u001b[0m             \u001b[0;32mtry\u001b[0m\u001b[0;34m:\u001b[0m\u001b[0;34m\u001b[0m\u001b[0m\n\u001b[0;32m--> 303\u001b[0;31m                 \u001b[0mvalues\u001b[0m\u001b[0;34m,\u001b[0m \u001b[0mtz\u001b[0m \u001b[0;34m=\u001b[0m \u001b[0mtslib\u001b[0m\u001b[0;34m.\u001b[0m\u001b[0mdatetime_to_datetime64\u001b[0m\u001b[0;34m(\u001b[0m\u001b[0marg\u001b[0m\u001b[0;34m)\u001b[0m\u001b[0;34m\u001b[0m\u001b[0m\n\u001b[0m\u001b[1;32m    304\u001b[0m                 \u001b[0;32mreturn\u001b[0m \u001b[0mDatetimeIndex\u001b[0m\u001b[0;34m.\u001b[0m\u001b[0m_simple_new\u001b[0m\u001b[0;34m(\u001b[0m\u001b[0mvalues\u001b[0m\u001b[0;34m,\u001b[0m \u001b[0mname\u001b[0m\u001b[0;34m=\u001b[0m\u001b[0mname\u001b[0m\u001b[0;34m,\u001b[0m \u001b[0mtz\u001b[0m\u001b[0;34m=\u001b[0m\u001b[0mtz\u001b[0m\u001b[0;34m)\u001b[0m\u001b[0;34m\u001b[0m\u001b[0m\n",
      "\u001b[0;32mpandas/_libs/tslib.pyx\u001b[0m in \u001b[0;36mpandas._libs.tslib.datetime_to_datetime64\u001b[0;34m()\u001b[0m\n",
      "\u001b[0;31mTypeError\u001b[0m: Unrecognized value type: <class 'str'>",
      "\nDuring handling of the above exception, another exception occurred:\n",
      "\u001b[0;31mValueError\u001b[0m                                Traceback (most recent call last)",
      "\u001b[0;32m<ipython-input-39-f0e6bdbcf3c1>\u001b[0m in \u001b[0;36m<module>\u001b[0;34m()\u001b[0m\n\u001b[0;32m----> 1\u001b[0;31m \u001b[0mprint\u001b[0m\u001b[0;34m(\u001b[0m\u001b[0;34m\"Illegal date\"\u001b[0m\u001b[0;34m,\u001b[0m \u001b[0mpd\u001b[0m\u001b[0;34m.\u001b[0m\u001b[0mto_datetime\u001b[0m\u001b[0;34m(\u001b[0m\u001b[0;34m[\u001b[0m\u001b[0;34m'1902-11-12'\u001b[0m\u001b[0;34m,\u001b[0m \u001b[0;34m'not a date'\u001b[0m\u001b[0;34m]\u001b[0m\u001b[0;34m)\u001b[0m \u001b[0;34m)\u001b[0m\u001b[0;34m\u001b[0m\u001b[0m\n\u001b[0m",
      "\u001b[0;32m~/anaconda3/lib/python3.6/site-packages/pandas/core/tools/datetimes.py\u001b[0m in \u001b[0;36mto_datetime\u001b[0;34m(arg, errors, dayfirst, yearfirst, utc, box, format, exact, unit, infer_datetime_format, origin)\u001b[0m\n\u001b[1;32m    378\u001b[0m         \u001b[0mresult\u001b[0m \u001b[0;34m=\u001b[0m \u001b[0m_convert_listlike\u001b[0m\u001b[0;34m(\u001b[0m\u001b[0marg\u001b[0m\u001b[0;34m,\u001b[0m \u001b[0mbox\u001b[0m\u001b[0;34m,\u001b[0m \u001b[0mformat\u001b[0m\u001b[0;34m,\u001b[0m \u001b[0mname\u001b[0m\u001b[0;34m=\u001b[0m\u001b[0marg\u001b[0m\u001b[0;34m.\u001b[0m\u001b[0mname\u001b[0m\u001b[0;34m)\u001b[0m\u001b[0;34m\u001b[0m\u001b[0m\n\u001b[1;32m    379\u001b[0m     \u001b[0;32melif\u001b[0m \u001b[0mis_list_like\u001b[0m\u001b[0;34m(\u001b[0m\u001b[0marg\u001b[0m\u001b[0;34m)\u001b[0m\u001b[0;34m:\u001b[0m\u001b[0;34m\u001b[0m\u001b[0m\n\u001b[0;32m--> 380\u001b[0;31m         \u001b[0mresult\u001b[0m \u001b[0;34m=\u001b[0m \u001b[0m_convert_listlike\u001b[0m\u001b[0;34m(\u001b[0m\u001b[0marg\u001b[0m\u001b[0;34m,\u001b[0m \u001b[0mbox\u001b[0m\u001b[0;34m,\u001b[0m \u001b[0mformat\u001b[0m\u001b[0;34m)\u001b[0m\u001b[0;34m\u001b[0m\u001b[0m\n\u001b[0m\u001b[1;32m    381\u001b[0m     \u001b[0;32melse\u001b[0m\u001b[0;34m:\u001b[0m\u001b[0;34m\u001b[0m\u001b[0m\n\u001b[1;32m    382\u001b[0m         \u001b[0mresult\u001b[0m \u001b[0;34m=\u001b[0m \u001b[0m_convert_listlike\u001b[0m\u001b[0;34m(\u001b[0m\u001b[0mnp\u001b[0m\u001b[0;34m.\u001b[0m\u001b[0marray\u001b[0m\u001b[0;34m(\u001b[0m\u001b[0;34m[\u001b[0m\u001b[0marg\u001b[0m\u001b[0;34m]\u001b[0m\u001b[0;34m)\u001b[0m\u001b[0;34m,\u001b[0m \u001b[0mbox\u001b[0m\u001b[0;34m,\u001b[0m \u001b[0mformat\u001b[0m\u001b[0;34m)\u001b[0m\u001b[0;34m[\u001b[0m\u001b[0;36m0\u001b[0m\u001b[0;34m]\u001b[0m\u001b[0;34m\u001b[0m\u001b[0m\n",
      "\u001b[0;32m~/anaconda3/lib/python3.6/site-packages/pandas/core/tools/datetimes.py\u001b[0m in \u001b[0;36m_convert_listlike\u001b[0;34m(arg, box, format, name, tz)\u001b[0m\n\u001b[1;32m    304\u001b[0m                 \u001b[0;32mreturn\u001b[0m \u001b[0mDatetimeIndex\u001b[0m\u001b[0;34m.\u001b[0m\u001b[0m_simple_new\u001b[0m\u001b[0;34m(\u001b[0m\u001b[0mvalues\u001b[0m\u001b[0;34m,\u001b[0m \u001b[0mname\u001b[0m\u001b[0;34m=\u001b[0m\u001b[0mname\u001b[0m\u001b[0;34m,\u001b[0m \u001b[0mtz\u001b[0m\u001b[0;34m=\u001b[0m\u001b[0mtz\u001b[0m\u001b[0;34m)\u001b[0m\u001b[0;34m\u001b[0m\u001b[0m\n\u001b[1;32m    305\u001b[0m             \u001b[0;32mexcept\u001b[0m \u001b[0;34m(\u001b[0m\u001b[0mValueError\u001b[0m\u001b[0;34m,\u001b[0m \u001b[0mTypeError\u001b[0m\u001b[0;34m)\u001b[0m\u001b[0;34m:\u001b[0m\u001b[0;34m\u001b[0m\u001b[0m\n\u001b[0;32m--> 306\u001b[0;31m                 \u001b[0;32mraise\u001b[0m \u001b[0me\u001b[0m\u001b[0;34m\u001b[0m\u001b[0m\n\u001b[0m\u001b[1;32m    307\u001b[0m \u001b[0;34m\u001b[0m\u001b[0m\n\u001b[1;32m    308\u001b[0m     \u001b[0;32mif\u001b[0m \u001b[0marg\u001b[0m \u001b[0;32mis\u001b[0m \u001b[0;32mNone\u001b[0m\u001b[0;34m:\u001b[0m\u001b[0;34m\u001b[0m\u001b[0m\n",
      "\u001b[0;32m~/anaconda3/lib/python3.6/site-packages/pandas/core/tools/datetimes.py\u001b[0m in \u001b[0;36m_convert_listlike\u001b[0;34m(arg, box, format, name, tz)\u001b[0m\n\u001b[1;32m    292\u001b[0m                     \u001b[0mdayfirst\u001b[0m\u001b[0;34m=\u001b[0m\u001b[0mdayfirst\u001b[0m\u001b[0;34m,\u001b[0m\u001b[0;34m\u001b[0m\u001b[0m\n\u001b[1;32m    293\u001b[0m                     \u001b[0myearfirst\u001b[0m\u001b[0;34m=\u001b[0m\u001b[0myearfirst\u001b[0m\u001b[0;34m,\u001b[0m\u001b[0;34m\u001b[0m\u001b[0m\n\u001b[0;32m--> 294\u001b[0;31m                     \u001b[0mrequire_iso8601\u001b[0m\u001b[0;34m=\u001b[0m\u001b[0mrequire_iso8601\u001b[0m\u001b[0;34m\u001b[0m\u001b[0m\n\u001b[0m\u001b[1;32m    295\u001b[0m                 )\n\u001b[1;32m    296\u001b[0m \u001b[0;34m\u001b[0m\u001b[0m\n",
      "\u001b[0;32mpandas/_libs/tslib.pyx\u001b[0m in \u001b[0;36mpandas._libs.tslib.array_to_datetime\u001b[0;34m()\u001b[0m\n",
      "\u001b[0;32mpandas/_libs/tslib.pyx\u001b[0m in \u001b[0;36mpandas._libs.tslib.array_to_datetime\u001b[0;34m()\u001b[0m\n",
      "\u001b[0;32mpandas/_libs/tslib.pyx\u001b[0m in \u001b[0;36mpandas._libs.tslib.array_to_datetime\u001b[0;34m()\u001b[0m\n",
      "\u001b[0;32mpandas/_libs/tslibs/parsing.pyx\u001b[0m in \u001b[0;36mpandas._libs.tslibs.parsing.parse_datetime_string\u001b[0;34m()\u001b[0m\n",
      "\u001b[0;32m~/anaconda3/lib/python3.6/site-packages/dateutil/parser.py\u001b[0m in \u001b[0;36mparse\u001b[0;34m(timestr, parserinfo, **kwargs)\u001b[0m\n\u001b[1;32m   1180\u001b[0m         \u001b[0;32mreturn\u001b[0m \u001b[0mparser\u001b[0m\u001b[0;34m(\u001b[0m\u001b[0mparserinfo\u001b[0m\u001b[0;34m)\u001b[0m\u001b[0;34m.\u001b[0m\u001b[0mparse\u001b[0m\u001b[0;34m(\u001b[0m\u001b[0mtimestr\u001b[0m\u001b[0;34m,\u001b[0m \u001b[0;34m**\u001b[0m\u001b[0mkwargs\u001b[0m\u001b[0;34m)\u001b[0m\u001b[0;34m\u001b[0m\u001b[0m\n\u001b[1;32m   1181\u001b[0m     \u001b[0;32melse\u001b[0m\u001b[0;34m:\u001b[0m\u001b[0;34m\u001b[0m\u001b[0m\n\u001b[0;32m-> 1182\u001b[0;31m         \u001b[0;32mreturn\u001b[0m \u001b[0mDEFAULTPARSER\u001b[0m\u001b[0;34m.\u001b[0m\u001b[0mparse\u001b[0m\u001b[0;34m(\u001b[0m\u001b[0mtimestr\u001b[0m\u001b[0;34m,\u001b[0m \u001b[0;34m**\u001b[0m\u001b[0mkwargs\u001b[0m\u001b[0;34m)\u001b[0m\u001b[0;34m\u001b[0m\u001b[0m\n\u001b[0m\u001b[1;32m   1183\u001b[0m \u001b[0;34m\u001b[0m\u001b[0m\n\u001b[1;32m   1184\u001b[0m \u001b[0;34m\u001b[0m\u001b[0m\n",
      "\u001b[0;32m~/anaconda3/lib/python3.6/site-packages/dateutil/parser.py\u001b[0m in \u001b[0;36mparse\u001b[0;34m(self, timestr, default, ignoretz, tzinfos, **kwargs)\u001b[0m\n\u001b[1;32m    557\u001b[0m \u001b[0;34m\u001b[0m\u001b[0m\n\u001b[1;32m    558\u001b[0m         \u001b[0;32mif\u001b[0m \u001b[0mres\u001b[0m \u001b[0;32mis\u001b[0m \u001b[0;32mNone\u001b[0m\u001b[0;34m:\u001b[0m\u001b[0;34m\u001b[0m\u001b[0m\n\u001b[0;32m--> 559\u001b[0;31m             \u001b[0;32mraise\u001b[0m \u001b[0mValueError\u001b[0m\u001b[0;34m(\u001b[0m\u001b[0;34m\"Unknown string format\"\u001b[0m\u001b[0;34m)\u001b[0m\u001b[0;34m\u001b[0m\u001b[0m\n\u001b[0m\u001b[1;32m    560\u001b[0m \u001b[0;34m\u001b[0m\u001b[0m\n\u001b[1;32m    561\u001b[0m         \u001b[0;32mif\u001b[0m \u001b[0mlen\u001b[0m\u001b[0;34m(\u001b[0m\u001b[0mres\u001b[0m\u001b[0;34m)\u001b[0m \u001b[0;34m==\u001b[0m \u001b[0;36m0\u001b[0m\u001b[0;34m:\u001b[0m\u001b[0;34m\u001b[0m\u001b[0m\n",
      "\u001b[0;31mValueError\u001b[0m: Unknown string format"
     ]
    }
   ],
   "source": [
    "print(\"Illegal date\", pd.to_datetime(['1902-11-12', 'not a date']) )"
   ]
  },
  {
   "cell_type": "code",
   "execution_count": 40,
   "metadata": {},
   "outputs": [
    {
     "name": "stdout",
     "output_type": "stream",
     "text": [
      "Illegal date coerced DatetimeIndex(['1902-11-12', 'NaT'], dtype='datetime64[ns]', freq=None)\n"
     ]
    }
   ],
   "source": [
    "print(\"Illegal date coerced\", pd.to_datetime(['1902-11-12', 'not a date'], errors='coerce'))"
   ]
  },
  {
   "cell_type": "markdown",
   "metadata": {},
   "source": [
    "# Pivot Tables"
   ]
  },
  {
   "cell_type": "code",
   "execution_count": 41,
   "metadata": {},
   "outputs": [],
   "source": [
    "seed(42)\n",
    "N = 7\n",
    "df = pd.DataFrame({\n",
    "   'Weather' : ['cold', 'hot', 'cold', 'hot',\n",
    "   'cold', 'hot', 'cold'],\n",
    "   'Food' : ['soup', 'soup', 'icecream', 'chocolate',\n",
    "   'icecream', 'icecream', 'soup'],\n",
    "   'Price' : 10 * rand(N), 'Number' : randint(1, 9)})"
   ]
  },
  {
   "cell_type": "code",
   "execution_count": 42,
   "metadata": {},
   "outputs": [
    {
     "name": "stdout",
     "output_type": "stream",
     "text": [
      "DataFrame\n",
      "         Food  Number     Price Weather\n",
      "0       soup       8  3.745401    cold\n",
      "1       soup       8  9.507143     hot\n",
      "2   icecream       8  7.319939    cold\n",
      "3  chocolate       8  5.986585     hot\n",
      "4   icecream       8  1.560186    cold\n",
      "5   icecream       8  1.559945     hot\n",
      "6       soup       8  0.580836    cold\n"
     ]
    }
   ],
   "source": [
    "print(\"DataFrame\\n\", df)"
   ]
  },
  {
   "cell_type": "code",
   "execution_count": 43,
   "metadata": {},
   "outputs": [
    {
     "name": "stdout",
     "output_type": "stream",
     "text": [
      "Food    chocolate   icecream      soup\n",
      "Number   8.000000  24.000000  24.00000\n",
      "Price    5.986585  10.440071  13.83338\n"
     ]
    }
   ],
   "source": [
    "print(pd.pivot_table(df, columns=['Food'], aggfunc=np.sum))"
   ]
  },
  {
   "cell_type": "code",
   "execution_count": 51,
   "metadata": {},
   "outputs": [],
   "source": [
    "import datetime\n",
    "import pandas as pd\n",
    "import pandas_datareader.data as web\n",
    "## !!! here it is 'pandas_datareader' rather than 'pandas-datareader'"
   ]
  },
  {
   "cell_type": "code",
   "execution_count": 55,
   "metadata": {},
   "outputs": [
    {
     "name": "stdout",
     "output_type": "stream",
     "text": [
      "                   Close   High    Low   Open    Volume\n",
      "Symbol Date                                            \n",
      "F      2016-01-01  14.09  14.09  14.09  14.09         0\n",
      "       2016-01-04  13.97  14.00  13.75  13.87  38618524\n",
      "       2016-01-05  13.72  14.00  13.51  13.97  50266484\n",
      "       2016-01-06  13.11  13.56  13.05  13.56  61263777\n",
      "       2016-01-07  12.70  13.04  12.60  12.90  57838021\n"
     ]
    }
   ],
   "source": [
    "start = datetime.datetime(2016, 1, 1) # or start = '1/1/2016'\n",
    "end = datetime.date.today()\n",
    "prices = web.DataReader('F', 'morningstar', start, end)\n",
    "print(prices.head())  # print first rows of the prices data"
   ]
  },
  {
   "cell_type": "code",
   "execution_count": null,
   "metadata": {},
   "outputs": [],
   "source": []
  }
 ],
 "metadata": {
  "kernelspec": {
   "display_name": "Python 3",
   "language": "python",
   "name": "python3"
  },
  "language_info": {
   "codemirror_mode": {
    "name": "ipython",
    "version": 3
   },
   "file_extension": ".py",
   "mimetype": "text/x-python",
   "name": "python",
   "nbconvert_exporter": "python",
   "pygments_lexer": "ipython3",
   "version": "3.6.4"
  }
 },
 "nbformat": 4,
 "nbformat_minor": 1
}
